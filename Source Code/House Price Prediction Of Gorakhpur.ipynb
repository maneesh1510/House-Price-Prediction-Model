{
 "cells": [
  {
   "cell_type": "code",
   "execution_count": 133,
   "id": "2d878a77",
   "metadata": {},
   "outputs": [],
   "source": [
    "import pandas as pd\n",
    "import numpy as np"
   ]
  },
  {
   "cell_type": "code",
   "execution_count": 134,
   "id": "07cb517f",
   "metadata": {},
   "outputs": [],
   "source": [
    "data=pd.read_csv('test_main.csv')"
   ]
  },
  {
   "cell_type": "code",
   "execution_count": 135,
   "id": "0250726e",
   "metadata": {},
   "outputs": [
    {
     "data": {
      "text/html": [
       "<div>\n",
       "<style scoped>\n",
       "    .dataframe tbody tr th:only-of-type {\n",
       "        vertical-align: middle;\n",
       "    }\n",
       "\n",
       "    .dataframe tbody tr th {\n",
       "        vertical-align: top;\n",
       "    }\n",
       "\n",
       "    .dataframe thead th {\n",
       "        text-align: right;\n",
       "    }\n",
       "</style>\n",
       "<table border=\"1\" class=\"dataframe\">\n",
       "  <thead>\n",
       "    <tr style=\"text-align: right;\">\n",
       "      <th></th>\n",
       "      <th>Area</th>\n",
       "      <th>BHK</th>\n",
       "      <th>Floor</th>\n",
       "      <th>Land Size</th>\n",
       "      <th>Price</th>\n",
       "    </tr>\n",
       "  </thead>\n",
       "  <tbody>\n",
       "    <tr>\n",
       "      <th>0</th>\n",
       "      <td>Alinagar</td>\n",
       "      <td>4</td>\n",
       "      <td>1</td>\n",
       "      <td>2000 sqft</td>\n",
       "      <td>?70 Lac</td>\n",
       "    </tr>\n",
       "    <tr>\n",
       "      <th>1</th>\n",
       "      <td>Alinagar</td>\n",
       "      <td>6</td>\n",
       "      <td>2</td>\n",
       "      <td>2500 sqft</td>\n",
       "      <td>?70.0 Lac</td>\n",
       "    </tr>\n",
       "    <tr>\n",
       "      <th>2</th>\n",
       "      <td>Alinagar</td>\n",
       "      <td>5</td>\n",
       "      <td>3</td>\n",
       "      <td>2000 sqft</td>\n",
       "      <td>?65.0 Lac</td>\n",
       "    </tr>\n",
       "    <tr>\n",
       "      <th>3</th>\n",
       "      <td>Alinagar</td>\n",
       "      <td>3</td>\n",
       "      <td>1</td>\n",
       "      <td>1500 sqft</td>\n",
       "      <td>?45 Lac</td>\n",
       "    </tr>\n",
       "    <tr>\n",
       "      <th>4</th>\n",
       "      <td>Alinagar</td>\n",
       "      <td>4</td>\n",
       "      <td>2</td>\n",
       "      <td>1500 sqft</td>\n",
       "      <td>?55 Lac</td>\n",
       "    </tr>\n",
       "  </tbody>\n",
       "</table>\n",
       "</div>"
      ],
      "text/plain": [
       "       Area  BHK  Floor  Land Size      Price\n",
       "0  Alinagar    4      1  2000 sqft    ?70 Lac\n",
       "1  Alinagar    6      2  2500 sqft  ?70.0 Lac\n",
       "2  Alinagar    5      3  2000 sqft  ?65.0 Lac\n",
       "3  Alinagar    3      1  1500 sqft    ?45 Lac\n",
       "4  Alinagar    4      2  1500 sqft    ?55 Lac"
      ]
     },
     "execution_count": 135,
     "metadata": {},
     "output_type": "execute_result"
    }
   ],
   "source": [
    "data.head()"
   ]
  },
  {
   "cell_type": "code",
   "execution_count": 136,
   "id": "e56e3948",
   "metadata": {},
   "outputs": [
    {
     "data": {
      "text/plain": [
       "(695, 5)"
      ]
     },
     "execution_count": 136,
     "metadata": {},
     "output_type": "execute_result"
    }
   ],
   "source": [
    "data.shape"
   ]
  },
  {
   "cell_type": "code",
   "execution_count": 137,
   "id": "645f044f",
   "metadata": {},
   "outputs": [
    {
     "name": "stdout",
     "output_type": "stream",
     "text": [
      "<class 'pandas.core.frame.DataFrame'>\n",
      "RangeIndex: 695 entries, 0 to 694\n",
      "Data columns (total 5 columns):\n",
      " #   Column     Non-Null Count  Dtype \n",
      "---  ------     --------------  ----- \n",
      " 0   Area       695 non-null    object\n",
      " 1   BHK        695 non-null    int64 \n",
      " 2   Floor      695 non-null    int64 \n",
      " 3   Land Size  695 non-null    object\n",
      " 4   Price      695 non-null    object\n",
      "dtypes: int64(2), object(3)\n",
      "memory usage: 27.3+ KB\n"
     ]
    }
   ],
   "source": [
    "data.info()"
   ]
  },
  {
   "cell_type": "code",
   "execution_count": 138,
   "id": "202f8d2c",
   "metadata": {
    "scrolled": true
   },
   "outputs": [
    {
     "name": "stdout",
     "output_type": "stream",
     "text": [
      "Betiahata                                                         47\n",
      "Chargawa                                                          42\n",
      "Taramandal                                                        38\n",
      "Kunraghat                                                         36\n",
      "Daudpur                                                           34\n",
      "                                                                  ..\n",
      "Opp Aakashwani CoLacony,Rapti Nagar III, Basharatpur,Gorakhpur     1\n",
      "Hasanganj                                                          1\n",
      "Humayunpur North                                                   1\n",
      "Jatepur North                                                      1\n",
      "Main market sahjanwa,Transport Nagar                               1\n",
      "Name: Area, Length: 77, dtype: int64\n",
      "********************\n",
      "2     144\n",
      "4     138\n",
      "3     137\n",
      "5      88\n",
      "6      57\n",
      "7      29\n",
      "1      29\n",
      "10     28\n",
      "8      22\n",
      "9       9\n",
      "11      4\n",
      "12      2\n",
      "17      1\n",
      "21      1\n",
      "18      1\n",
      "16      1\n",
      "25      1\n",
      "24      1\n",
      "14      1\n",
      "13      1\n",
      "Name: BHK, dtype: int64\n",
      "********************\n",
      "2    323\n",
      "1    207\n",
      "3    150\n",
      "4     15\n",
      "Name: Floor, dtype: int64\n",
      "********************\n",
      "1500 sqft    33\n",
      "1000 sqft    30\n",
      "2100 sqft    27\n",
      "400 sqft     20\n",
      "2000 sqft    17\n",
      "             ..\n",
      "6199 sqft     1\n",
      "980 sqft      1\n",
      "2570 sqft     1\n",
      "3080 sqft     1\n",
      "734 sqft      1\n",
      "Name: Land Size, Length: 137, dtype: int64\n",
      "********************\n",
      "?70 Lac     28\n",
      "?65 Lac     28\n",
      "?1.25 Cr    16\n",
      "?40 Lac     14\n",
      "?90 Lac     13\n",
      "            ..\n",
      "?2.1 Cr      1\n",
      "?2.7Cr       1\n",
      "?2.32 Cr     1\n",
      "?88 Lac      1\n",
      "?58 Lac      1\n",
      "Name: Price, Length: 173, dtype: int64\n",
      "********************\n"
     ]
    }
   ],
   "source": [
    "for column in data.columns:\n",
    "    print(data[column].value_counts())\n",
    "    print(\"*\"*20)"
   ]
  },
  {
   "cell_type": "code",
   "execution_count": 139,
   "id": "0ef6ec08",
   "metadata": {},
   "outputs": [
    {
     "data": {
      "text/plain": [
       "Area         0\n",
       "BHK          0\n",
       "Floor        0\n",
       "Land Size    0\n",
       "Price        0\n",
       "dtype: int64"
      ]
     },
     "execution_count": 139,
     "metadata": {},
     "output_type": "execute_result"
    }
   ],
   "source": [
    "data.isna().sum()\n",
    "data.isnull().sum(axis = 0)"
   ]
  },
  {
   "cell_type": "code",
   "execution_count": 140,
   "id": "9c3698d3",
   "metadata": {},
   "outputs": [
    {
     "data": {
      "text/html": [
       "<div>\n",
       "<style scoped>\n",
       "    .dataframe tbody tr th:only-of-type {\n",
       "        vertical-align: middle;\n",
       "    }\n",
       "\n",
       "    .dataframe tbody tr th {\n",
       "        vertical-align: top;\n",
       "    }\n",
       "\n",
       "    .dataframe thead th {\n",
       "        text-align: right;\n",
       "    }\n",
       "</style>\n",
       "<table border=\"1\" class=\"dataframe\">\n",
       "  <thead>\n",
       "    <tr style=\"text-align: right;\">\n",
       "      <th></th>\n",
       "      <th>BHK</th>\n",
       "      <th>Floor</th>\n",
       "    </tr>\n",
       "  </thead>\n",
       "  <tbody>\n",
       "    <tr>\n",
       "      <th>count</th>\n",
       "      <td>695.000000</td>\n",
       "      <td>695.000000</td>\n",
       "    </tr>\n",
       "    <tr>\n",
       "      <th>mean</th>\n",
       "      <td>4.342446</td>\n",
       "      <td>1.961151</td>\n",
       "    </tr>\n",
       "    <tr>\n",
       "      <th>std</th>\n",
       "      <td>2.736902</td>\n",
       "      <td>0.774179</td>\n",
       "    </tr>\n",
       "    <tr>\n",
       "      <th>min</th>\n",
       "      <td>1.000000</td>\n",
       "      <td>1.000000</td>\n",
       "    </tr>\n",
       "    <tr>\n",
       "      <th>25%</th>\n",
       "      <td>3.000000</td>\n",
       "      <td>1.000000</td>\n",
       "    </tr>\n",
       "    <tr>\n",
       "      <th>50%</th>\n",
       "      <td>4.000000</td>\n",
       "      <td>2.000000</td>\n",
       "    </tr>\n",
       "    <tr>\n",
       "      <th>75%</th>\n",
       "      <td>5.000000</td>\n",
       "      <td>2.000000</td>\n",
       "    </tr>\n",
       "    <tr>\n",
       "      <th>max</th>\n",
       "      <td>25.000000</td>\n",
       "      <td>4.000000</td>\n",
       "    </tr>\n",
       "  </tbody>\n",
       "</table>\n",
       "</div>"
      ],
      "text/plain": [
       "              BHK       Floor\n",
       "count  695.000000  695.000000\n",
       "mean     4.342446    1.961151\n",
       "std      2.736902    0.774179\n",
       "min      1.000000    1.000000\n",
       "25%      3.000000    1.000000\n",
       "50%      4.000000    2.000000\n",
       "75%      5.000000    2.000000\n",
       "max     25.000000    4.000000"
      ]
     },
     "execution_count": 140,
     "metadata": {},
     "output_type": "execute_result"
    }
   ],
   "source": [
    "data.describe()"
   ]
  },
  {
   "cell_type": "code",
   "execution_count": 141,
   "id": "9cd5aa54",
   "metadata": {},
   "outputs": [
    {
     "name": "stdout",
     "output_type": "stream",
     "text": [
      "<class 'pandas.core.frame.DataFrame'>\n",
      "RangeIndex: 695 entries, 0 to 694\n",
      "Data columns (total 5 columns):\n",
      " #   Column     Non-Null Count  Dtype \n",
      "---  ------     --------------  ----- \n",
      " 0   Area       695 non-null    object\n",
      " 1   BHK        695 non-null    int64 \n",
      " 2   Floor      695 non-null    int64 \n",
      " 3   Land Size  695 non-null    object\n",
      " 4   Price      695 non-null    object\n",
      "dtypes: int64(2), object(3)\n",
      "memory usage: 27.3+ KB\n"
     ]
    }
   ],
   "source": [
    "data.info()"
   ]
  },
  {
   "cell_type": "code",
   "execution_count": 142,
   "id": "3a4a6ca9",
   "metadata": {},
   "outputs": [
    {
     "data": {
      "text/html": [
       "<div>\n",
       "<style scoped>\n",
       "    .dataframe tbody tr th:only-of-type {\n",
       "        vertical-align: middle;\n",
       "    }\n",
       "\n",
       "    .dataframe tbody tr th {\n",
       "        vertical-align: top;\n",
       "    }\n",
       "\n",
       "    .dataframe thead th {\n",
       "        text-align: right;\n",
       "    }\n",
       "</style>\n",
       "<table border=\"1\" class=\"dataframe\">\n",
       "  <thead>\n",
       "    <tr style=\"text-align: right;\">\n",
       "      <th></th>\n",
       "      <th>Area</th>\n",
       "      <th>BHK</th>\n",
       "      <th>Floor</th>\n",
       "      <th>Land Size</th>\n",
       "      <th>Price</th>\n",
       "    </tr>\n",
       "  </thead>\n",
       "  <tbody>\n",
       "    <tr>\n",
       "      <th>504</th>\n",
       "      <td>MughaLaca</td>\n",
       "      <td>24</td>\n",
       "      <td>3</td>\n",
       "      <td>2000 sqft</td>\n",
       "      <td>?1.4 Cr</td>\n",
       "    </tr>\n",
       "    <tr>\n",
       "      <th>554</th>\n",
       "      <td>Qazipur Khurd</td>\n",
       "      <td>25</td>\n",
       "      <td>3</td>\n",
       "      <td>1100 sqft</td>\n",
       "      <td>?1.5 Cr</td>\n",
       "    </tr>\n",
       "    <tr>\n",
       "      <th>650</th>\n",
       "      <td>shivpur shahbajganj,Hussain Nagar</td>\n",
       "      <td>21</td>\n",
       "      <td>2</td>\n",
       "      <td>3423 sqft</td>\n",
       "      <td>?1.15 Cr</td>\n",
       "    </tr>\n",
       "  </tbody>\n",
       "</table>\n",
       "</div>"
      ],
      "text/plain": [
       "                                  Area  BHK  Floor  Land Size     Price\n",
       "504                          MughaLaca   24      3  2000 sqft   ?1.4 Cr\n",
       "554                      Qazipur Khurd   25      3  1100 sqft   ?1.5 Cr\n",
       "650  shivpur shahbajganj,Hussain Nagar   21      2  3423 sqft  ?1.15 Cr"
      ]
     },
     "execution_count": 142,
     "metadata": {},
     "output_type": "execute_result"
    }
   ],
   "source": [
    "data[data.BHK > 20]"
   ]
  },
  {
   "cell_type": "code",
   "execution_count": 143,
   "id": "b4e43316",
   "metadata": {},
   "outputs": [
    {
     "data": {
      "text/plain": [
       "array(['2000 sqft', '2500 sqft', '1500 sqft', '760 sqft', '1322 sqft',\n",
       "       '1467 sqft', '1600 sqft', '1234 sqft', '1501 sqft', '1662 sqft',\n",
       "       '1880 sqft', '4786 sqft', '4200 sqft', '988 sqft', '755 sqft',\n",
       "       '3308 sqft', '3168 sqft', '2368 sqft', '750 sqft', '950 sqft',\n",
       "       '1300 sqft', '1410 sqft', '400 sqft', '2100 sqft', '2360 sqft',\n",
       "       '1470 sqft', '1200 sqft', '744 sqft', '832 sqft', '1530 sqft',\n",
       "       '2025 sqft', '3033 sqft', '1480 sqft', '1230 sqft', '3100 sqft',\n",
       "       '1820 sqft', '1900 sqft', '850 sqft', '2140 sqft', '3600 sqft',\n",
       "       '8000 sqft', '1250 sqft', '700 sqft', '1050 sqft', '1100 sqft',\n",
       "       '1400 sqft', '2050 sqft', '1800 sqft', '3000 sqft', '900 sqft',\n",
       "       '2300 sqft', '800 sqft', '2900 sqft', '1350 sqft', '1420 sqft',\n",
       "       '2450 sqft', '2200 sqft', '1850 sqft', '1700 sqft', '2400 sqft',\n",
       "       '1980 sqft', '1000 sqft', '741 sqft', '1680 sqft', '600 sqft',\n",
       "       '1150 sqft', '5000 sqft', '4300 sqft', '1270 sqft', '1650 sqft',\n",
       "       '3200 sqft', '1744 sqft', '1478 sqft', '4000 sqft', '1158 sqft',\n",
       "       '2840 sqft', '550 sqft', '1440 sqft', '5200 sqft', '1055 sqft',\n",
       "       '826 sqft', '3342 sqft', '1732 sqft', '931 sqft', '1070 sqft',\n",
       "       '2332 sqft', '2448 sqft', '5072 sqft', '6014 sqft', '1378 sqft',\n",
       "       '6199 sqft', '3800 sqft', '1173 sqft', '6040 sqft', '640 sqft',\n",
       "       '660 sqft', '270 sqft', '913 sqft', '980 sqft', '1620 sqft',\n",
       "       '2570 sqft', '3080 sqft', '5400 sqft', '540 sqft', '2520 sqft',\n",
       "       '1720 sqft', '7500 sqft', '603 sqft', '9000 sqft', '6500 sqft',\n",
       "       '7000 sqft', '7700 sqft', '1468 sqft', '888 sqft', '450 sqft',\n",
       "       '2834 sqft', '1725 sqft', '703 sqft', '5100 sqft', '2640 sqft',\n",
       "       '915 sqft', '1753 sqft', '4716 sqft', '3520 sqft', '2250 sqft',\n",
       "       '500 sqft', '4600 sqft', '3450 sqft', '4700 sqft', '1825 sqft',\n",
       "       '1090 sqft', '1004 sqft', '1312 sqft', '1106 sqft', '3423 sqft',\n",
       "       '825 sqft', '734 sqft'], dtype=object)"
      ]
     },
     "execution_count": 143,
     "metadata": {},
     "output_type": "execute_result"
    }
   ],
   "source": [
    "data['Land Size'].unique()"
   ]
  },
  {
   "cell_type": "code",
   "execution_count": 144,
   "id": "292ef44d",
   "metadata": {},
   "outputs": [
    {
     "data": {
      "text/html": [
       "<div>\n",
       "<style scoped>\n",
       "    .dataframe tbody tr th:only-of-type {\n",
       "        vertical-align: middle;\n",
       "    }\n",
       "\n",
       "    .dataframe tbody tr th {\n",
       "        vertical-align: top;\n",
       "    }\n",
       "\n",
       "    .dataframe thead th {\n",
       "        text-align: right;\n",
       "    }\n",
       "</style>\n",
       "<table border=\"1\" class=\"dataframe\">\n",
       "  <thead>\n",
       "    <tr style=\"text-align: right;\">\n",
       "      <th></th>\n",
       "      <th>Area</th>\n",
       "      <th>BHK</th>\n",
       "      <th>Floor</th>\n",
       "      <th>Land Size</th>\n",
       "      <th>Price</th>\n",
       "    </tr>\n",
       "  </thead>\n",
       "  <tbody>\n",
       "    <tr>\n",
       "      <th>0</th>\n",
       "      <td>Alinagar</td>\n",
       "      <td>4</td>\n",
       "      <td>1</td>\n",
       "      <td>2000 sqft</td>\n",
       "      <td>?70 Lac</td>\n",
       "    </tr>\n",
       "    <tr>\n",
       "      <th>1</th>\n",
       "      <td>Alinagar</td>\n",
       "      <td>6</td>\n",
       "      <td>2</td>\n",
       "      <td>2500 sqft</td>\n",
       "      <td>?70.0 Lac</td>\n",
       "    </tr>\n",
       "    <tr>\n",
       "      <th>2</th>\n",
       "      <td>Alinagar</td>\n",
       "      <td>5</td>\n",
       "      <td>3</td>\n",
       "      <td>2000 sqft</td>\n",
       "      <td>?65.0 Lac</td>\n",
       "    </tr>\n",
       "    <tr>\n",
       "      <th>3</th>\n",
       "      <td>Alinagar</td>\n",
       "      <td>3</td>\n",
       "      <td>1</td>\n",
       "      <td>1500 sqft</td>\n",
       "      <td>?45 Lac</td>\n",
       "    </tr>\n",
       "    <tr>\n",
       "      <th>4</th>\n",
       "      <td>Alinagar</td>\n",
       "      <td>4</td>\n",
       "      <td>2</td>\n",
       "      <td>1500 sqft</td>\n",
       "      <td>?55 Lac</td>\n",
       "    </tr>\n",
       "  </tbody>\n",
       "</table>\n",
       "</div>"
      ],
      "text/plain": [
       "       Area  BHK  Floor  Land Size      Price\n",
       "0  Alinagar    4      1  2000 sqft    ?70 Lac\n",
       "1  Alinagar    6      2  2500 sqft  ?70.0 Lac\n",
       "2  Alinagar    5      3  2000 sqft  ?65.0 Lac\n",
       "3  Alinagar    3      1  1500 sqft    ?45 Lac\n",
       "4  Alinagar    4      2  1500 sqft    ?55 Lac"
      ]
     },
     "execution_count": 144,
     "metadata": {},
     "output_type": "execute_result"
    }
   ],
   "source": [
    "data.head()"
   ]
  },
  {
   "cell_type": "code",
   "execution_count": 145,
   "id": "c1b1a782",
   "metadata": {},
   "outputs": [],
   "source": [
    "data['Price(in Lakhs)'] =data['Price'].astype('str').str.extractall('(\\d+)').unstack().fillna('').sum(axis=1).astype(int)"
   ]
  },
  {
   "cell_type": "code",
   "execution_count": 146,
   "id": "4e93aebc",
   "metadata": {},
   "outputs": [
    {
     "data": {
      "text/html": [
       "<div>\n",
       "<style scoped>\n",
       "    .dataframe tbody tr th:only-of-type {\n",
       "        vertical-align: middle;\n",
       "    }\n",
       "\n",
       "    .dataframe tbody tr th {\n",
       "        vertical-align: top;\n",
       "    }\n",
       "\n",
       "    .dataframe thead th {\n",
       "        text-align: right;\n",
       "    }\n",
       "</style>\n",
       "<table border=\"1\" class=\"dataframe\">\n",
       "  <thead>\n",
       "    <tr style=\"text-align: right;\">\n",
       "      <th></th>\n",
       "      <th>Area</th>\n",
       "      <th>BHK</th>\n",
       "      <th>Floor</th>\n",
       "      <th>Land Size</th>\n",
       "      <th>Price</th>\n",
       "      <th>Price(in Lakhs)</th>\n",
       "    </tr>\n",
       "  </thead>\n",
       "  <tbody>\n",
       "    <tr>\n",
       "      <th>0</th>\n",
       "      <td>Alinagar</td>\n",
       "      <td>4</td>\n",
       "      <td>1</td>\n",
       "      <td>2000 sqft</td>\n",
       "      <td>?70 Lac</td>\n",
       "      <td>70.0</td>\n",
       "    </tr>\n",
       "    <tr>\n",
       "      <th>1</th>\n",
       "      <td>Alinagar</td>\n",
       "      <td>6</td>\n",
       "      <td>2</td>\n",
       "      <td>2500 sqft</td>\n",
       "      <td>?70.0 Lac</td>\n",
       "      <td>700.0</td>\n",
       "    </tr>\n",
       "    <tr>\n",
       "      <th>2</th>\n",
       "      <td>Alinagar</td>\n",
       "      <td>5</td>\n",
       "      <td>3</td>\n",
       "      <td>2000 sqft</td>\n",
       "      <td>?65.0 Lac</td>\n",
       "      <td>650.0</td>\n",
       "    </tr>\n",
       "    <tr>\n",
       "      <th>3</th>\n",
       "      <td>Alinagar</td>\n",
       "      <td>3</td>\n",
       "      <td>1</td>\n",
       "      <td>1500 sqft</td>\n",
       "      <td>?45 Lac</td>\n",
       "      <td>45.0</td>\n",
       "    </tr>\n",
       "    <tr>\n",
       "      <th>4</th>\n",
       "      <td>Alinagar</td>\n",
       "      <td>4</td>\n",
       "      <td>2</td>\n",
       "      <td>1500 sqft</td>\n",
       "      <td>?55 Lac</td>\n",
       "      <td>55.0</td>\n",
       "    </tr>\n",
       "  </tbody>\n",
       "</table>\n",
       "</div>"
      ],
      "text/plain": [
       "       Area  BHK  Floor  Land Size      Price  Price(in Lakhs)\n",
       "0  Alinagar    4      1  2000 sqft    ?70 Lac             70.0\n",
       "1  Alinagar    6      2  2500 sqft  ?70.0 Lac            700.0\n",
       "2  Alinagar    5      3  2000 sqft  ?65.0 Lac            650.0\n",
       "3  Alinagar    3      1  1500 sqft    ?45 Lac             45.0\n",
       "4  Alinagar    4      2  1500 sqft    ?55 Lac             55.0"
      ]
     },
     "execution_count": 146,
     "metadata": {},
     "output_type": "execute_result"
    }
   ],
   "source": [
    "data.head()"
   ]
  },
  {
   "cell_type": "code",
   "execution_count": 147,
   "id": "a541bf42",
   "metadata": {},
   "outputs": [],
   "source": [
    "data['Price(in Lakhs)']=data['Price(in Lakhs)']/10"
   ]
  },
  {
   "cell_type": "code",
   "execution_count": 148,
   "id": "3accb4ad",
   "metadata": {},
   "outputs": [
    {
     "data": {
      "text/html": [
       "<div>\n",
       "<style scoped>\n",
       "    .dataframe tbody tr th:only-of-type {\n",
       "        vertical-align: middle;\n",
       "    }\n",
       "\n",
       "    .dataframe tbody tr th {\n",
       "        vertical-align: top;\n",
       "    }\n",
       "\n",
       "    .dataframe thead th {\n",
       "        text-align: right;\n",
       "    }\n",
       "</style>\n",
       "<table border=\"1\" class=\"dataframe\">\n",
       "  <thead>\n",
       "    <tr style=\"text-align: right;\">\n",
       "      <th></th>\n",
       "      <th>Area</th>\n",
       "      <th>BHK</th>\n",
       "      <th>Floor</th>\n",
       "      <th>Land Size</th>\n",
       "      <th>Price</th>\n",
       "      <th>Price(in Lakhs)</th>\n",
       "    </tr>\n",
       "  </thead>\n",
       "  <tbody>\n",
       "    <tr>\n",
       "      <th>0</th>\n",
       "      <td>Alinagar</td>\n",
       "      <td>4</td>\n",
       "      <td>1</td>\n",
       "      <td>2000 sqft</td>\n",
       "      <td>?70 Lac</td>\n",
       "      <td>7.0</td>\n",
       "    </tr>\n",
       "    <tr>\n",
       "      <th>1</th>\n",
       "      <td>Alinagar</td>\n",
       "      <td>6</td>\n",
       "      <td>2</td>\n",
       "      <td>2500 sqft</td>\n",
       "      <td>?70.0 Lac</td>\n",
       "      <td>70.0</td>\n",
       "    </tr>\n",
       "    <tr>\n",
       "      <th>2</th>\n",
       "      <td>Alinagar</td>\n",
       "      <td>5</td>\n",
       "      <td>3</td>\n",
       "      <td>2000 sqft</td>\n",
       "      <td>?65.0 Lac</td>\n",
       "      <td>65.0</td>\n",
       "    </tr>\n",
       "    <tr>\n",
       "      <th>3</th>\n",
       "      <td>Alinagar</td>\n",
       "      <td>3</td>\n",
       "      <td>1</td>\n",
       "      <td>1500 sqft</td>\n",
       "      <td>?45 Lac</td>\n",
       "      <td>4.5</td>\n",
       "    </tr>\n",
       "    <tr>\n",
       "      <th>4</th>\n",
       "      <td>Alinagar</td>\n",
       "      <td>4</td>\n",
       "      <td>2</td>\n",
       "      <td>1500 sqft</td>\n",
       "      <td>?55 Lac</td>\n",
       "      <td>5.5</td>\n",
       "    </tr>\n",
       "  </tbody>\n",
       "</table>\n",
       "</div>"
      ],
      "text/plain": [
       "       Area  BHK  Floor  Land Size      Price  Price(in Lakhs)\n",
       "0  Alinagar    4      1  2000 sqft    ?70 Lac              7.0\n",
       "1  Alinagar    6      2  2500 sqft  ?70.0 Lac             70.0\n",
       "2  Alinagar    5      3  2000 sqft  ?65.0 Lac             65.0\n",
       "3  Alinagar    3      1  1500 sqft    ?45 Lac              4.5\n",
       "4  Alinagar    4      2  1500 sqft    ?55 Lac              5.5"
      ]
     },
     "execution_count": 148,
     "metadata": {},
     "output_type": "execute_result"
    }
   ],
   "source": [
    "data.head()"
   ]
  },
  {
   "cell_type": "code",
   "execution_count": 149,
   "id": "e6bc08f4",
   "metadata": {},
   "outputs": [],
   "source": [
    "data['Price(in Lakhs)'] = data['Price(in Lakhs)'].apply(lambda x : x*100 if x < 10 else x)"
   ]
  },
  {
   "cell_type": "code",
   "execution_count": 150,
   "id": "d4fd10df",
   "metadata": {},
   "outputs": [
    {
     "data": {
      "text/html": [
       "<div>\n",
       "<style scoped>\n",
       "    .dataframe tbody tr th:only-of-type {\n",
       "        vertical-align: middle;\n",
       "    }\n",
       "\n",
       "    .dataframe tbody tr th {\n",
       "        vertical-align: top;\n",
       "    }\n",
       "\n",
       "    .dataframe thead th {\n",
       "        text-align: right;\n",
       "    }\n",
       "</style>\n",
       "<table border=\"1\" class=\"dataframe\">\n",
       "  <thead>\n",
       "    <tr style=\"text-align: right;\">\n",
       "      <th></th>\n",
       "      <th>Area</th>\n",
       "      <th>BHK</th>\n",
       "      <th>Floor</th>\n",
       "      <th>Land Size</th>\n",
       "      <th>Price</th>\n",
       "      <th>Price(in Lakhs)</th>\n",
       "    </tr>\n",
       "  </thead>\n",
       "  <tbody>\n",
       "    <tr>\n",
       "      <th>0</th>\n",
       "      <td>Alinagar</td>\n",
       "      <td>4</td>\n",
       "      <td>1</td>\n",
       "      <td>2000 sqft</td>\n",
       "      <td>?70 Lac</td>\n",
       "      <td>700.0</td>\n",
       "    </tr>\n",
       "    <tr>\n",
       "      <th>1</th>\n",
       "      <td>Alinagar</td>\n",
       "      <td>6</td>\n",
       "      <td>2</td>\n",
       "      <td>2500 sqft</td>\n",
       "      <td>?70.0 Lac</td>\n",
       "      <td>70.0</td>\n",
       "    </tr>\n",
       "    <tr>\n",
       "      <th>2</th>\n",
       "      <td>Alinagar</td>\n",
       "      <td>5</td>\n",
       "      <td>3</td>\n",
       "      <td>2000 sqft</td>\n",
       "      <td>?65.0 Lac</td>\n",
       "      <td>65.0</td>\n",
       "    </tr>\n",
       "    <tr>\n",
       "      <th>3</th>\n",
       "      <td>Alinagar</td>\n",
       "      <td>3</td>\n",
       "      <td>1</td>\n",
       "      <td>1500 sqft</td>\n",
       "      <td>?45 Lac</td>\n",
       "      <td>450.0</td>\n",
       "    </tr>\n",
       "    <tr>\n",
       "      <th>4</th>\n",
       "      <td>Alinagar</td>\n",
       "      <td>4</td>\n",
       "      <td>2</td>\n",
       "      <td>1500 sqft</td>\n",
       "      <td>?55 Lac</td>\n",
       "      <td>550.0</td>\n",
       "    </tr>\n",
       "  </tbody>\n",
       "</table>\n",
       "</div>"
      ],
      "text/plain": [
       "       Area  BHK  Floor  Land Size      Price  Price(in Lakhs)\n",
       "0  Alinagar    4      1  2000 sqft    ?70 Lac            700.0\n",
       "1  Alinagar    6      2  2500 sqft  ?70.0 Lac             70.0\n",
       "2  Alinagar    5      3  2000 sqft  ?65.0 Lac             65.0\n",
       "3  Alinagar    3      1  1500 sqft    ?45 Lac            450.0\n",
       "4  Alinagar    4      2  1500 sqft    ?55 Lac            550.0"
      ]
     },
     "execution_count": 150,
     "metadata": {},
     "output_type": "execute_result"
    }
   ],
   "source": [
    "data.head()"
   ]
  },
  {
   "cell_type": "code",
   "execution_count": 151,
   "id": "10c05a28",
   "metadata": {},
   "outputs": [],
   "source": [
    "data['Size(in sq.ft)'] = data['Land Size']"
   ]
  },
  {
   "cell_type": "code",
   "execution_count": 152,
   "id": "df18d325",
   "metadata": {},
   "outputs": [
    {
     "data": {
      "text/html": [
       "<div>\n",
       "<style scoped>\n",
       "    .dataframe tbody tr th:only-of-type {\n",
       "        vertical-align: middle;\n",
       "    }\n",
       "\n",
       "    .dataframe tbody tr th {\n",
       "        vertical-align: top;\n",
       "    }\n",
       "\n",
       "    .dataframe thead th {\n",
       "        text-align: right;\n",
       "    }\n",
       "</style>\n",
       "<table border=\"1\" class=\"dataframe\">\n",
       "  <thead>\n",
       "    <tr style=\"text-align: right;\">\n",
       "      <th></th>\n",
       "      <th>Area</th>\n",
       "      <th>BHK</th>\n",
       "      <th>Floor</th>\n",
       "      <th>Land Size</th>\n",
       "      <th>Price</th>\n",
       "      <th>Price(in Lakhs)</th>\n",
       "      <th>Size(in sq.ft)</th>\n",
       "    </tr>\n",
       "  </thead>\n",
       "  <tbody>\n",
       "    <tr>\n",
       "      <th>0</th>\n",
       "      <td>Alinagar</td>\n",
       "      <td>4</td>\n",
       "      <td>1</td>\n",
       "      <td>2000 sqft</td>\n",
       "      <td>?70 Lac</td>\n",
       "      <td>700.0</td>\n",
       "      <td>2000 sqft</td>\n",
       "    </tr>\n",
       "    <tr>\n",
       "      <th>1</th>\n",
       "      <td>Alinagar</td>\n",
       "      <td>6</td>\n",
       "      <td>2</td>\n",
       "      <td>2500 sqft</td>\n",
       "      <td>?70.0 Lac</td>\n",
       "      <td>70.0</td>\n",
       "      <td>2500 sqft</td>\n",
       "    </tr>\n",
       "    <tr>\n",
       "      <th>2</th>\n",
       "      <td>Alinagar</td>\n",
       "      <td>5</td>\n",
       "      <td>3</td>\n",
       "      <td>2000 sqft</td>\n",
       "      <td>?65.0 Lac</td>\n",
       "      <td>65.0</td>\n",
       "      <td>2000 sqft</td>\n",
       "    </tr>\n",
       "    <tr>\n",
       "      <th>3</th>\n",
       "      <td>Alinagar</td>\n",
       "      <td>3</td>\n",
       "      <td>1</td>\n",
       "      <td>1500 sqft</td>\n",
       "      <td>?45 Lac</td>\n",
       "      <td>450.0</td>\n",
       "      <td>1500 sqft</td>\n",
       "    </tr>\n",
       "    <tr>\n",
       "      <th>4</th>\n",
       "      <td>Alinagar</td>\n",
       "      <td>4</td>\n",
       "      <td>2</td>\n",
       "      <td>1500 sqft</td>\n",
       "      <td>?55 Lac</td>\n",
       "      <td>550.0</td>\n",
       "      <td>1500 sqft</td>\n",
       "    </tr>\n",
       "  </tbody>\n",
       "</table>\n",
       "</div>"
      ],
      "text/plain": [
       "       Area  BHK  Floor  Land Size      Price  Price(in Lakhs) Size(in sq.ft)\n",
       "0  Alinagar    4      1  2000 sqft    ?70 Lac            700.0      2000 sqft\n",
       "1  Alinagar    6      2  2500 sqft  ?70.0 Lac             70.0      2500 sqft\n",
       "2  Alinagar    5      3  2000 sqft  ?65.0 Lac             65.0      2000 sqft\n",
       "3  Alinagar    3      1  1500 sqft    ?45 Lac            450.0      1500 sqft\n",
       "4  Alinagar    4      2  1500 sqft    ?55 Lac            550.0      1500 sqft"
      ]
     },
     "execution_count": 152,
     "metadata": {},
     "output_type": "execute_result"
    }
   ],
   "source": [
    "data.head()"
   ]
  },
  {
   "cell_type": "code",
   "execution_count": 153,
   "id": "0671f9fb",
   "metadata": {},
   "outputs": [],
   "source": [
    "data['Size(in sq.ft)'] = data['Size(in sq.ft)'].astype(str).str[:-5].astype(np.int64)"
   ]
  },
  {
   "cell_type": "code",
   "execution_count": 154,
   "id": "59081de1",
   "metadata": {},
   "outputs": [
    {
     "data": {
      "text/html": [
       "<div>\n",
       "<style scoped>\n",
       "    .dataframe tbody tr th:only-of-type {\n",
       "        vertical-align: middle;\n",
       "    }\n",
       "\n",
       "    .dataframe tbody tr th {\n",
       "        vertical-align: top;\n",
       "    }\n",
       "\n",
       "    .dataframe thead th {\n",
       "        text-align: right;\n",
       "    }\n",
       "</style>\n",
       "<table border=\"1\" class=\"dataframe\">\n",
       "  <thead>\n",
       "    <tr style=\"text-align: right;\">\n",
       "      <th></th>\n",
       "      <th>Area</th>\n",
       "      <th>BHK</th>\n",
       "      <th>Floor</th>\n",
       "      <th>Land Size</th>\n",
       "      <th>Price</th>\n",
       "      <th>Price(in Lakhs)</th>\n",
       "      <th>Size(in sq.ft)</th>\n",
       "    </tr>\n",
       "  </thead>\n",
       "  <tbody>\n",
       "    <tr>\n",
       "      <th>0</th>\n",
       "      <td>Alinagar</td>\n",
       "      <td>4</td>\n",
       "      <td>1</td>\n",
       "      <td>2000 sqft</td>\n",
       "      <td>?70 Lac</td>\n",
       "      <td>700.0</td>\n",
       "      <td>2000</td>\n",
       "    </tr>\n",
       "    <tr>\n",
       "      <th>1</th>\n",
       "      <td>Alinagar</td>\n",
       "      <td>6</td>\n",
       "      <td>2</td>\n",
       "      <td>2500 sqft</td>\n",
       "      <td>?70.0 Lac</td>\n",
       "      <td>70.0</td>\n",
       "      <td>2500</td>\n",
       "    </tr>\n",
       "    <tr>\n",
       "      <th>2</th>\n",
       "      <td>Alinagar</td>\n",
       "      <td>5</td>\n",
       "      <td>3</td>\n",
       "      <td>2000 sqft</td>\n",
       "      <td>?65.0 Lac</td>\n",
       "      <td>65.0</td>\n",
       "      <td>2000</td>\n",
       "    </tr>\n",
       "    <tr>\n",
       "      <th>3</th>\n",
       "      <td>Alinagar</td>\n",
       "      <td>3</td>\n",
       "      <td>1</td>\n",
       "      <td>1500 sqft</td>\n",
       "      <td>?45 Lac</td>\n",
       "      <td>450.0</td>\n",
       "      <td>1500</td>\n",
       "    </tr>\n",
       "    <tr>\n",
       "      <th>4</th>\n",
       "      <td>Alinagar</td>\n",
       "      <td>4</td>\n",
       "      <td>2</td>\n",
       "      <td>1500 sqft</td>\n",
       "      <td>?55 Lac</td>\n",
       "      <td>550.0</td>\n",
       "      <td>1500</td>\n",
       "    </tr>\n",
       "  </tbody>\n",
       "</table>\n",
       "</div>"
      ],
      "text/plain": [
       "       Area  BHK  Floor  Land Size      Price  Price(in Lakhs)  Size(in sq.ft)\n",
       "0  Alinagar    4      1  2000 sqft    ?70 Lac            700.0            2000\n",
       "1  Alinagar    6      2  2500 sqft  ?70.0 Lac             70.0            2500\n",
       "2  Alinagar    5      3  2000 sqft  ?65.0 Lac             65.0            2000\n",
       "3  Alinagar    3      1  1500 sqft    ?45 Lac            450.0            1500\n",
       "4  Alinagar    4      2  1500 sqft    ?55 Lac            550.0            1500"
      ]
     },
     "execution_count": 154,
     "metadata": {},
     "output_type": "execute_result"
    }
   ],
   "source": [
    "data.head()"
   ]
  },
  {
   "cell_type": "code",
   "execution_count": 155,
   "id": "60fec18a",
   "metadata": {},
   "outputs": [],
   "source": [
    "data['price_per_sqft'] = data['Price(in Lakhs)']*100000/data['Size(in sq.ft)']"
   ]
  },
  {
   "cell_type": "code",
   "execution_count": 156,
   "id": "1beb31eb",
   "metadata": {},
   "outputs": [
    {
     "data": {
      "text/plain": [
       "0      35000.000000\n",
       "1       2800.000000\n",
       "2       3250.000000\n",
       "3      30000.000000\n",
       "4      36666.666667\n",
       "           ...     \n",
       "690    79954.954955\n",
       "691    92643.051771\n",
       "692      833.333333\n",
       "693      833.333333\n",
       "694      833.333333\n",
       "Name: price_per_sqft, Length: 695, dtype: float64"
      ]
     },
     "execution_count": 156,
     "metadata": {},
     "output_type": "execute_result"
    }
   ],
   "source": [
    "data['price_per_sqft']"
   ]
  },
  {
   "cell_type": "code",
   "execution_count": 157,
   "id": "f1cfe3a4",
   "metadata": {},
   "outputs": [
    {
     "data": {
      "text/html": [
       "<div>\n",
       "<style scoped>\n",
       "    .dataframe tbody tr th:only-of-type {\n",
       "        vertical-align: middle;\n",
       "    }\n",
       "\n",
       "    .dataframe tbody tr th {\n",
       "        vertical-align: top;\n",
       "    }\n",
       "\n",
       "    .dataframe thead th {\n",
       "        text-align: right;\n",
       "    }\n",
       "</style>\n",
       "<table border=\"1\" class=\"dataframe\">\n",
       "  <thead>\n",
       "    <tr style=\"text-align: right;\">\n",
       "      <th></th>\n",
       "      <th>BHK</th>\n",
       "      <th>Floor</th>\n",
       "      <th>Price(in Lakhs)</th>\n",
       "      <th>Size(in sq.ft)</th>\n",
       "      <th>price_per_sqft</th>\n",
       "    </tr>\n",
       "  </thead>\n",
       "  <tbody>\n",
       "    <tr>\n",
       "      <th>count</th>\n",
       "      <td>695.000000</td>\n",
       "      <td>695.000000</td>\n",
       "      <td>694.000000</td>\n",
       "      <td>695.000000</td>\n",
       "      <td>694.000000</td>\n",
       "    </tr>\n",
       "    <tr>\n",
       "      <th>mean</th>\n",
       "      <td>4.342446</td>\n",
       "      <td>1.961151</td>\n",
       "      <td>367.725648</td>\n",
       "      <td>2051.097842</td>\n",
       "      <td>30736.584480</td>\n",
       "    </tr>\n",
       "    <tr>\n",
       "      <th>std</th>\n",
       "      <td>2.736902</td>\n",
       "      <td>0.774179</td>\n",
       "      <td>320.157575</td>\n",
       "      <td>1579.484995</td>\n",
       "      <td>29618.472194</td>\n",
       "    </tr>\n",
       "    <tr>\n",
       "      <th>min</th>\n",
       "      <td>1.000000</td>\n",
       "      <td>1.000000</td>\n",
       "      <td>10.000000</td>\n",
       "      <td>270.000000</td>\n",
       "      <td>266.666667</td>\n",
       "    </tr>\n",
       "    <tr>\n",
       "      <th>25%</th>\n",
       "      <td>3.000000</td>\n",
       "      <td>1.000000</td>\n",
       "      <td>27.900000</td>\n",
       "      <td>1000.000000</td>\n",
       "      <td>1000.000000</td>\n",
       "    </tr>\n",
       "    <tr>\n",
       "      <th>50%</th>\n",
       "      <td>4.000000</td>\n",
       "      <td>2.000000</td>\n",
       "      <td>350.000000</td>\n",
       "      <td>1501.000000</td>\n",
       "      <td>32292.438844</td>\n",
       "    </tr>\n",
       "    <tr>\n",
       "      <th>75%</th>\n",
       "      <td>5.000000</td>\n",
       "      <td>2.000000</td>\n",
       "      <td>650.000000</td>\n",
       "      <td>2400.000000</td>\n",
       "      <td>49560.439560</td>\n",
       "    </tr>\n",
       "    <tr>\n",
       "      <th>max</th>\n",
       "      <td>25.000000</td>\n",
       "      <td>4.000000</td>\n",
       "      <td>990.000000</td>\n",
       "      <td>9000.000000</td>\n",
       "      <td>159259.259259</td>\n",
       "    </tr>\n",
       "  </tbody>\n",
       "</table>\n",
       "</div>"
      ],
      "text/plain": [
       "              BHK       Floor  Price(in Lakhs)  Size(in sq.ft)  price_per_sqft\n",
       "count  695.000000  695.000000       694.000000      695.000000      694.000000\n",
       "mean     4.342446    1.961151       367.725648     2051.097842    30736.584480\n",
       "std      2.736902    0.774179       320.157575     1579.484995    29618.472194\n",
       "min      1.000000    1.000000        10.000000      270.000000      266.666667\n",
       "25%      3.000000    1.000000        27.900000     1000.000000     1000.000000\n",
       "50%      4.000000    2.000000       350.000000     1501.000000    32292.438844\n",
       "75%      5.000000    2.000000       650.000000     2400.000000    49560.439560\n",
       "max     25.000000    4.000000       990.000000     9000.000000   159259.259259"
      ]
     },
     "execution_count": 157,
     "metadata": {},
     "output_type": "execute_result"
    }
   ],
   "source": [
    "data.describe()"
   ]
  },
  {
   "cell_type": "code",
   "execution_count": 158,
   "id": "36ea7a69",
   "metadata": {},
   "outputs": [
    {
     "data": {
      "text/plain": [
       "Betiahata                                                         47\n",
       "Chargawa                                                          42\n",
       "Taramandal                                                        38\n",
       "Kunraghat                                                         36\n",
       "Daudpur                                                           34\n",
       "                                                                  ..\n",
       "Opp Aakashwani CoLacony,Rapti Nagar III, Basharatpur,Gorakhpur     1\n",
       "Hasanganj                                                          1\n",
       "Humayunpur North                                                   1\n",
       "Jatepur North                                                      1\n",
       "Main market sahjanwa,Transport Nagar                               1\n",
       "Name: Area, Length: 77, dtype: int64"
      ]
     },
     "execution_count": 158,
     "metadata": {},
     "output_type": "execute_result"
    }
   ],
   "source": [
    "data['Area'].value_counts()"
   ]
  },
  {
   "cell_type": "code",
   "execution_count": 159,
   "id": "7e129b0f",
   "metadata": {},
   "outputs": [],
   "source": [
    "data['Area'] = data['Area'].apply(lambda x: x.strip())\n",
    "location_count = data['Area'].value_counts()"
   ]
  },
  {
   "cell_type": "code",
   "execution_count": 160,
   "id": "87c539fe",
   "metadata": {},
   "outputs": [
    {
     "data": {
      "text/plain": [
       "Betiahata                                            47\n",
       "Chargawa                                             42\n",
       "Taramandal                                           38\n",
       "Kunraghat                                            36\n",
       "Daudpur                                              34\n",
       "                                                     ..\n",
       "Jatepur North                                         1\n",
       "AMV GD EncLacave                                      1\n",
       "Kashipuram CoLacony,TP Nagar, Basantpur,Gorakhpur     1\n",
       "Moharipur                                             1\n",
       "KaLacepur                                             1\n",
       "Name: Area, Length: 75, dtype: int64"
      ]
     },
     "execution_count": 160,
     "metadata": {},
     "output_type": "execute_result"
    }
   ],
   "source": [
    "location_count"
   ]
  },
  {
   "cell_type": "code",
   "execution_count": 161,
   "id": "8b445f39",
   "metadata": {},
   "outputs": [
    {
     "data": {
      "text/plain": [
       "Hussain Nagar                                                                    7\n",
       "Raiganj                                                                          7\n",
       "Maniram                                                                          7\n",
       "Jatepur                                                                          7\n",
       "Aryanagar                                                                        6\n",
       "near humayunpur shanimandir and near gokuLac apartment                           6\n",
       "Millacennium City colony,RailVihar Ph-2 Colony, Raptinagar Phase -4,Gorakhpur    6\n",
       "Rail Vihar Colony                                                                5\n",
       "Ismailpur                                                                        5\n",
       "Bakshipur                                                                        5\n",
       "East basin, Brahmin society GDA coLacony                                         4\n",
       "Chilmapur                                                                        4\n",
       "Nanda Nagar                                                                      4\n",
       "East Park facing pLacot                                                          4\n",
       "ramgarh Lacake view                                                              3\n",
       "Surajkund                                                                        3\n",
       "NH 24                                                                            3\n",
       "Near to 30 feet damar road highway                                               3\n",
       "Saraswati Puram coLacony                                                         3\n",
       "Ramjanki Nagar                                                                   3\n",
       "Ramnagar Gorakhpur                                                               3\n",
       "Miyan Bazar                                                                      3\n",
       "Transport Nagar                                                                  3\n",
       "jatepur north road                                                               3\n",
       "BuiLact up III FLacoor in Main market, near Charan LacaLac chowk on road...      3\n",
       "Ghasikatra                                                                       3\n",
       "RaiLacway Stadium CoLacony                                                       2\n",
       "MughaLaca                                                                        2\n",
       "BiLacandpur                                                                      2\n",
       "Phase 3rd                                                                        2\n",
       "yy1                                                                              1\n",
       "Basantpur                                                                        1\n",
       "shivpur shahbajganj,Hussain Nagar                                                1\n",
       "Shivpur Sahabajganj                                                              1\n",
       "Dayanand Nagar                                                                   1\n",
       "FertiLacizer CoLacony                                                            1\n",
       "FLacorus GaLacaxy                                                                1\n",
       "FLacorus GaLacaxy Tower                                                          1\n",
       "Ramnagar  karjaha gorakhpur                                                      1\n",
       "Mirzapur Pachpedwa                                                               1\n",
       "Rajiv Nagar CoLacony                                                             1\n",
       "Main market sahjanwa,Transport Nagar                                             1\n",
       "Rail Vihar Colony Phase 3rd, Phase 3rd,Gorakhpur                                 1\n",
       "harhawa Phatak                                                                   1\n",
       "Hasanganj                                                                        1\n",
       "Qazipur Khurd                                                                    1\n",
       "Humayunpur North                                                                 1\n",
       "Opp Aakashwani CoLacony,Rapti Nagar III, Basharatpur,Gorakhpur                   1\n",
       "Jatepur North                                                                    1\n",
       "AMV GD EncLacave                                                                 1\n",
       "Kashipuram CoLacony,TP Nagar, Basantpur,Gorakhpur                                1\n",
       "Moharipur                                                                        1\n",
       "KaLacepur                                                                        1\n",
       "Name: Area, dtype: int64"
      ]
     },
     "execution_count": 161,
     "metadata": {},
     "output_type": "execute_result"
    }
   ],
   "source": [
    "location_count_less_4 = location_count[location_count<=10]\n",
    "location_count_less_4"
   ]
  },
  {
   "cell_type": "code",
   "execution_count": 162,
   "id": "3d7626f2",
   "metadata": {},
   "outputs": [],
   "source": [
    "data['Area'] = data['Area'].apply(lambda x: 'other' if x in location_count_less_4 else x)"
   ]
  },
  {
   "cell_type": "code",
   "execution_count": 163,
   "id": "4f5512fd",
   "metadata": {},
   "outputs": [
    {
     "data": {
      "text/plain": [
       "other                   144\n",
       "Betiahata                47\n",
       "Chargawa                 42\n",
       "Taramandal               38\n",
       "Kunraghat                36\n",
       "Daudpur                  34\n",
       "Azad Nagar               31\n",
       "Rustampur                30\n",
       "Padri Bazar              29\n",
       "Alinagar                 26\n",
       "Awas Vikas Colony        26\n",
       "Ashok Nagar              23\n",
       "Bade Kajipur             23\n",
       "Golghar                  21\n",
       "Basharatpur              21\n",
       "Shahpur                  21\n",
       "Gorakhnath               17\n",
       "Ashuran Chowk            16\n",
       "Mohaddipur               15\n",
       "Gorakhpur                15\n",
       "Bargadwa                 14\n",
       "Raptinagar               14\n",
       "Medical Collage Road     12\n",
       "Name: Area, dtype: int64"
      ]
     },
     "execution_count": 163,
     "metadata": {},
     "output_type": "execute_result"
    }
   ],
   "source": [
    "data['Area'].value_counts()"
   ]
  },
  {
   "cell_type": "code",
   "execution_count": 164,
   "id": "7eb94cd9",
   "metadata": {},
   "outputs": [
    {
     "data": {
      "text/html": [
       "<div>\n",
       "<style scoped>\n",
       "    .dataframe tbody tr th:only-of-type {\n",
       "        vertical-align: middle;\n",
       "    }\n",
       "\n",
       "    .dataframe tbody tr th {\n",
       "        vertical-align: top;\n",
       "    }\n",
       "\n",
       "    .dataframe thead th {\n",
       "        text-align: right;\n",
       "    }\n",
       "</style>\n",
       "<table border=\"1\" class=\"dataframe\">\n",
       "  <thead>\n",
       "    <tr style=\"text-align: right;\">\n",
       "      <th></th>\n",
       "      <th>BHK</th>\n",
       "      <th>Floor</th>\n",
       "      <th>Price(in Lakhs)</th>\n",
       "      <th>Size(in sq.ft)</th>\n",
       "      <th>price_per_sqft</th>\n",
       "    </tr>\n",
       "  </thead>\n",
       "  <tbody>\n",
       "    <tr>\n",
       "      <th>count</th>\n",
       "      <td>695.000000</td>\n",
       "      <td>695.000000</td>\n",
       "      <td>694.000000</td>\n",
       "      <td>695.000000</td>\n",
       "      <td>694.000000</td>\n",
       "    </tr>\n",
       "    <tr>\n",
       "      <th>mean</th>\n",
       "      <td>4.342446</td>\n",
       "      <td>1.961151</td>\n",
       "      <td>367.725648</td>\n",
       "      <td>2051.097842</td>\n",
       "      <td>30736.584480</td>\n",
       "    </tr>\n",
       "    <tr>\n",
       "      <th>std</th>\n",
       "      <td>2.736902</td>\n",
       "      <td>0.774179</td>\n",
       "      <td>320.157575</td>\n",
       "      <td>1579.484995</td>\n",
       "      <td>29618.472194</td>\n",
       "    </tr>\n",
       "    <tr>\n",
       "      <th>min</th>\n",
       "      <td>1.000000</td>\n",
       "      <td>1.000000</td>\n",
       "      <td>10.000000</td>\n",
       "      <td>270.000000</td>\n",
       "      <td>266.666667</td>\n",
       "    </tr>\n",
       "    <tr>\n",
       "      <th>25%</th>\n",
       "      <td>3.000000</td>\n",
       "      <td>1.000000</td>\n",
       "      <td>27.900000</td>\n",
       "      <td>1000.000000</td>\n",
       "      <td>1000.000000</td>\n",
       "    </tr>\n",
       "    <tr>\n",
       "      <th>50%</th>\n",
       "      <td>4.000000</td>\n",
       "      <td>2.000000</td>\n",
       "      <td>350.000000</td>\n",
       "      <td>1501.000000</td>\n",
       "      <td>32292.438844</td>\n",
       "    </tr>\n",
       "    <tr>\n",
       "      <th>75%</th>\n",
       "      <td>5.000000</td>\n",
       "      <td>2.000000</td>\n",
       "      <td>650.000000</td>\n",
       "      <td>2400.000000</td>\n",
       "      <td>49560.439560</td>\n",
       "    </tr>\n",
       "    <tr>\n",
       "      <th>max</th>\n",
       "      <td>25.000000</td>\n",
       "      <td>4.000000</td>\n",
       "      <td>990.000000</td>\n",
       "      <td>9000.000000</td>\n",
       "      <td>159259.259259</td>\n",
       "    </tr>\n",
       "  </tbody>\n",
       "</table>\n",
       "</div>"
      ],
      "text/plain": [
       "              BHK       Floor  Price(in Lakhs)  Size(in sq.ft)  price_per_sqft\n",
       "count  695.000000  695.000000       694.000000      695.000000      694.000000\n",
       "mean     4.342446    1.961151       367.725648     2051.097842    30736.584480\n",
       "std      2.736902    0.774179       320.157575     1579.484995    29618.472194\n",
       "min      1.000000    1.000000        10.000000      270.000000      266.666667\n",
       "25%      3.000000    1.000000        27.900000     1000.000000     1000.000000\n",
       "50%      4.000000    2.000000       350.000000     1501.000000    32292.438844\n",
       "75%      5.000000    2.000000       650.000000     2400.000000    49560.439560\n",
       "max     25.000000    4.000000       990.000000     9000.000000   159259.259259"
      ]
     },
     "execution_count": 164,
     "metadata": {},
     "output_type": "execute_result"
    }
   ],
   "source": [
    "data.describe()"
   ]
  },
  {
   "cell_type": "code",
   "execution_count": 165,
   "id": "3f9168e4",
   "metadata": {},
   "outputs": [
    {
     "data": {
      "text/plain": [
       "count     695.000000\n",
       "mean      502.746312\n",
       "std       307.624635\n",
       "min        38.888889\n",
       "25%       350.000000\n",
       "50%       440.666667\n",
       "75%       583.000000\n",
       "max      2500.000000\n",
       "dtype: float64"
      ]
     },
     "execution_count": 165,
     "metadata": {},
     "output_type": "execute_result"
    }
   ],
   "source": [
    "(data['Size(in sq.ft)']/data['BHK']).describe()"
   ]
  },
  {
   "cell_type": "code",
   "execution_count": 166,
   "id": "59bf481f",
   "metadata": {},
   "outputs": [
    {
     "data": {
      "text/html": [
       "<div>\n",
       "<style scoped>\n",
       "    .dataframe tbody tr th:only-of-type {\n",
       "        vertical-align: middle;\n",
       "    }\n",
       "\n",
       "    .dataframe tbody tr th {\n",
       "        vertical-align: top;\n",
       "    }\n",
       "\n",
       "    .dataframe thead th {\n",
       "        text-align: right;\n",
       "    }\n",
       "</style>\n",
       "<table border=\"1\" class=\"dataframe\">\n",
       "  <thead>\n",
       "    <tr style=\"text-align: right;\">\n",
       "      <th></th>\n",
       "      <th>BHK</th>\n",
       "      <th>Floor</th>\n",
       "      <th>Price(in Lakhs)</th>\n",
       "      <th>Size(in sq.ft)</th>\n",
       "      <th>price_per_sqft</th>\n",
       "    </tr>\n",
       "  </thead>\n",
       "  <tbody>\n",
       "    <tr>\n",
       "      <th>count</th>\n",
       "      <td>581.000000</td>\n",
       "      <td>581.000000</td>\n",
       "      <td>580.000000</td>\n",
       "      <td>581.000000</td>\n",
       "      <td>580.000000</td>\n",
       "    </tr>\n",
       "    <tr>\n",
       "      <th>mean</th>\n",
       "      <td>4.046472</td>\n",
       "      <td>1.981067</td>\n",
       "      <td>375.296207</td>\n",
       "      <td>2255.611015</td>\n",
       "      <td>27835.369672</td>\n",
       "    </tr>\n",
       "    <tr>\n",
       "      <th>std</th>\n",
       "      <td>2.255929</td>\n",
       "      <td>0.790887</td>\n",
       "      <td>326.984366</td>\n",
       "      <td>1636.404826</td>\n",
       "      <td>25502.098909</td>\n",
       "    </tr>\n",
       "    <tr>\n",
       "      <th>min</th>\n",
       "      <td>1.000000</td>\n",
       "      <td>1.000000</td>\n",
       "      <td>10.000000</td>\n",
       "      <td>400.000000</td>\n",
       "      <td>266.666667</td>\n",
       "    </tr>\n",
       "    <tr>\n",
       "      <th>25%</th>\n",
       "      <td>2.000000</td>\n",
       "      <td>1.000000</td>\n",
       "      <td>27.500000</td>\n",
       "      <td>1173.000000</td>\n",
       "      <td>846.153846</td>\n",
       "    </tr>\n",
       "    <tr>\n",
       "      <th>50%</th>\n",
       "      <td>4.000000</td>\n",
       "      <td>2.000000</td>\n",
       "      <td>360.000000</td>\n",
       "      <td>1732.000000</td>\n",
       "      <td>31250.000000</td>\n",
       "    </tr>\n",
       "    <tr>\n",
       "      <th>75%</th>\n",
       "      <td>5.000000</td>\n",
       "      <td>3.000000</td>\n",
       "      <td>680.000000</td>\n",
       "      <td>2900.000000</td>\n",
       "      <td>46087.092732</td>\n",
       "    </tr>\n",
       "    <tr>\n",
       "      <th>max</th>\n",
       "      <td>12.000000</td>\n",
       "      <td>4.000000</td>\n",
       "      <td>990.000000</td>\n",
       "      <td>9000.000000</td>\n",
       "      <td>93333.333333</td>\n",
       "    </tr>\n",
       "  </tbody>\n",
       "</table>\n",
       "</div>"
      ],
      "text/plain": [
       "              BHK       Floor  Price(in Lakhs)  Size(in sq.ft)  price_per_sqft\n",
       "count  581.000000  581.000000       580.000000      581.000000      580.000000\n",
       "mean     4.046472    1.981067       375.296207     2255.611015    27835.369672\n",
       "std      2.255929    0.790887       326.984366     1636.404826    25502.098909\n",
       "min      1.000000    1.000000        10.000000      400.000000      266.666667\n",
       "25%      2.000000    1.000000        27.500000     1173.000000      846.153846\n",
       "50%      4.000000    2.000000       360.000000     1732.000000    31250.000000\n",
       "75%      5.000000    3.000000       680.000000     2900.000000    46087.092732\n",
       "max     12.000000    4.000000       990.000000     9000.000000    93333.333333"
      ]
     },
     "execution_count": 166,
     "metadata": {},
     "output_type": "execute_result"
    }
   ],
   "source": [
    "data = data[((data['Size(in sq.ft)']/data['BHK'])>=300)]\n",
    "data.describe()"
   ]
  },
  {
   "cell_type": "code",
   "execution_count": 167,
   "id": "5b7959aa",
   "metadata": {},
   "outputs": [
    {
     "data": {
      "text/plain": [
       "(581, 8)"
      ]
     },
     "execution_count": 167,
     "metadata": {},
     "output_type": "execute_result"
    }
   ],
   "source": [
    "data.shape"
   ]
  },
  {
   "cell_type": "code",
   "execution_count": 168,
   "id": "c6a5702f",
   "metadata": {},
   "outputs": [
    {
     "data": {
      "text/plain": [
       "count      580.000000\n",
       "mean     27835.369672\n",
       "std      25502.098909\n",
       "min        266.666667\n",
       "25%        846.153846\n",
       "50%      31250.000000\n",
       "75%      46087.092732\n",
       "max      93333.333333\n",
       "Name: price_per_sqft, dtype: float64"
      ]
     },
     "execution_count": 168,
     "metadata": {},
     "output_type": "execute_result"
    }
   ],
   "source": [
    "data['price_per_sqft'].describe()"
   ]
  },
  {
   "cell_type": "code",
   "execution_count": 169,
   "id": "c8f4448b",
   "metadata": {},
   "outputs": [
    {
     "data": {
      "text/html": [
       "<div>\n",
       "<style scoped>\n",
       "    .dataframe tbody tr th:only-of-type {\n",
       "        vertical-align: middle;\n",
       "    }\n",
       "\n",
       "    .dataframe tbody tr th {\n",
       "        vertical-align: top;\n",
       "    }\n",
       "\n",
       "    .dataframe thead th {\n",
       "        text-align: right;\n",
       "    }\n",
       "</style>\n",
       "<table border=\"1\" class=\"dataframe\">\n",
       "  <thead>\n",
       "    <tr style=\"text-align: right;\">\n",
       "      <th></th>\n",
       "      <th>BHK</th>\n",
       "      <th>Floor</th>\n",
       "      <th>Price(in Lakhs)</th>\n",
       "      <th>Size(in sq.ft)</th>\n",
       "      <th>price_per_sqft</th>\n",
       "    </tr>\n",
       "  </thead>\n",
       "  <tbody>\n",
       "    <tr>\n",
       "      <th>count</th>\n",
       "      <td>384.000000</td>\n",
       "      <td>384.000000</td>\n",
       "      <td>384.000000</td>\n",
       "      <td>384.000000</td>\n",
       "      <td>384.000000</td>\n",
       "    </tr>\n",
       "    <tr>\n",
       "      <th>mean</th>\n",
       "      <td>3.924479</td>\n",
       "      <td>1.890625</td>\n",
       "      <td>410.732812</td>\n",
       "      <td>2191.541667</td>\n",
       "      <td>28057.999206</td>\n",
       "    </tr>\n",
       "    <tr>\n",
       "      <th>std</th>\n",
       "      <td>2.180384</td>\n",
       "      <td>0.793917</td>\n",
       "      <td>312.381387</td>\n",
       "      <td>1654.300582</td>\n",
       "      <td>20821.522636</td>\n",
       "    </tr>\n",
       "    <tr>\n",
       "      <th>min</th>\n",
       "      <td>1.000000</td>\n",
       "      <td>1.000000</td>\n",
       "      <td>10.500000</td>\n",
       "      <td>400.000000</td>\n",
       "      <td>266.666667</td>\n",
       "    </tr>\n",
       "    <tr>\n",
       "      <th>25%</th>\n",
       "      <td>2.000000</td>\n",
       "      <td>1.000000</td>\n",
       "      <td>60.000000</td>\n",
       "      <td>1173.000000</td>\n",
       "      <td>3499.159664</td>\n",
       "    </tr>\n",
       "    <tr>\n",
       "      <th>50%</th>\n",
       "      <td>3.000000</td>\n",
       "      <td>2.000000</td>\n",
       "      <td>400.000000</td>\n",
       "      <td>1680.000000</td>\n",
       "      <td>34215.010942</td>\n",
       "    </tr>\n",
       "    <tr>\n",
       "      <th>75%</th>\n",
       "      <td>5.000000</td>\n",
       "      <td>2.000000</td>\n",
       "      <td>680.000000</td>\n",
       "      <td>2448.000000</td>\n",
       "      <td>45000.000000</td>\n",
       "    </tr>\n",
       "    <tr>\n",
       "      <th>max</th>\n",
       "      <td>12.000000</td>\n",
       "      <td>4.000000</td>\n",
       "      <td>990.000000</td>\n",
       "      <td>9000.000000</td>\n",
       "      <td>70000.000000</td>\n",
       "    </tr>\n",
       "  </tbody>\n",
       "</table>\n",
       "</div>"
      ],
      "text/plain": [
       "              BHK       Floor  Price(in Lakhs)  Size(in sq.ft)  price_per_sqft\n",
       "count  384.000000  384.000000       384.000000      384.000000      384.000000\n",
       "mean     3.924479    1.890625       410.732812     2191.541667    28057.999206\n",
       "std      2.180384    0.793917       312.381387     1654.300582    20821.522636\n",
       "min      1.000000    1.000000        10.500000      400.000000      266.666667\n",
       "25%      2.000000    1.000000        60.000000     1173.000000     3499.159664\n",
       "50%      3.000000    2.000000       400.000000     1680.000000    34215.010942\n",
       "75%      5.000000    2.000000       680.000000     2448.000000    45000.000000\n",
       "max     12.000000    4.000000       990.000000     9000.000000    70000.000000"
      ]
     },
     "execution_count": 169,
     "metadata": {},
     "output_type": "execute_result"
    }
   ],
   "source": [
    "def remove_outliers_sqft(df):\n",
    "    df_output = pd.DataFrame()\n",
    "    for key,subdf in df.groupby('Area'):\n",
    "        m = np.mean(subdf.price_per_sqft)\n",
    "        st = np.std(subdf.price_per_sqft)\n",
    "    \n",
    "        gen_df = subdf[(subdf.price_per_sqft > (m-st)) & (subdf.price_per_sqft<=(m+st))]\n",
    "        df_output = pd.concat([df_output,gen_df],ignore_index=True)\n",
    "    return df_output\n",
    "data = remove_outliers_sqft(data)\n",
    "data.describe()"
   ]
  },
  {
   "cell_type": "code",
   "execution_count": 170,
   "id": "4ff55588",
   "metadata": {},
   "outputs": [],
   "source": [
    "def bhk_outliers_remover(df):\n",
    "    exclude_indices = np.array([])\n",
    "    for location,location_df in df.groupby('Area'):\n",
    "        bhk_stats = {}\n",
    "        for bhk, bhk_df in location_df.groupby('BHK'):\n",
    "            bhk_stats[bhk]={\n",
    "                'mean': np.mean(bhk_df.price_per_sqft),\n",
    "                'std' : np.std(bhk_df.price_per_sqft),\n",
    "                'count' : bhk_df.shape[0]\n",
    "            }\n",
    "       \n",
    "        for bhk, bhk_df in location_df.groupby('BHK'):\n",
    "            stats = bhk_stats.get(bhk-1)\n",
    "            if stats and stats['count']>5:\n",
    "                exclude_indices = np.append(exclude_indices,bhk_df[bhk_df.price_per_sqft<(stats['mean'])].index.values)\n",
    "                \n",
    "    return df.drop(exclude_indices,axis='index')        "
   ]
  },
  {
   "cell_type": "code",
   "execution_count": 171,
   "id": "54d95bf6",
   "metadata": {},
   "outputs": [],
   "source": [
    "data = bhk_outliers_remover(data)"
   ]
  },
  {
   "cell_type": "code",
   "execution_count": 172,
   "id": "d87b0ca3",
   "metadata": {},
   "outputs": [
    {
     "data": {
      "text/plain": [
       "(340, 8)"
      ]
     },
     "execution_count": 172,
     "metadata": {},
     "output_type": "execute_result"
    }
   ],
   "source": [
    "data.shape"
   ]
  },
  {
   "cell_type": "code",
   "execution_count": 173,
   "id": "1f5a32ae",
   "metadata": {},
   "outputs": [
    {
     "data": {
      "text/html": [
       "<div>\n",
       "<style scoped>\n",
       "    .dataframe tbody tr th:only-of-type {\n",
       "        vertical-align: middle;\n",
       "    }\n",
       "\n",
       "    .dataframe tbody tr th {\n",
       "        vertical-align: top;\n",
       "    }\n",
       "\n",
       "    .dataframe thead th {\n",
       "        text-align: right;\n",
       "    }\n",
       "</style>\n",
       "<table border=\"1\" class=\"dataframe\">\n",
       "  <thead>\n",
       "    <tr style=\"text-align: right;\">\n",
       "      <th></th>\n",
       "      <th>Area</th>\n",
       "      <th>BHK</th>\n",
       "      <th>Floor</th>\n",
       "      <th>Land Size</th>\n",
       "      <th>Price</th>\n",
       "      <th>Price(in Lakhs)</th>\n",
       "      <th>Size(in sq.ft)</th>\n",
       "      <th>price_per_sqft</th>\n",
       "    </tr>\n",
       "  </thead>\n",
       "  <tbody>\n",
       "    <tr>\n",
       "      <th>1</th>\n",
       "      <td>Alinagar</td>\n",
       "      <td>3</td>\n",
       "      <td>1</td>\n",
       "      <td>1500 sqft</td>\n",
       "      <td>?45 Lac</td>\n",
       "      <td>450.0</td>\n",
       "      <td>1500</td>\n",
       "      <td>30000.000000</td>\n",
       "    </tr>\n",
       "    <tr>\n",
       "      <th>2</th>\n",
       "      <td>Alinagar</td>\n",
       "      <td>4</td>\n",
       "      <td>2</td>\n",
       "      <td>1500 sqft</td>\n",
       "      <td>?55 Lac</td>\n",
       "      <td>550.0</td>\n",
       "      <td>1500</td>\n",
       "      <td>36666.666667</td>\n",
       "    </tr>\n",
       "    <tr>\n",
       "      <th>3</th>\n",
       "      <td>Alinagar</td>\n",
       "      <td>2</td>\n",
       "      <td>2</td>\n",
       "      <td>760 sqft</td>\n",
       "      <td>?35 Lac</td>\n",
       "      <td>350.0</td>\n",
       "      <td>760</td>\n",
       "      <td>46052.631579</td>\n",
       "    </tr>\n",
       "    <tr>\n",
       "      <th>4</th>\n",
       "      <td>Alinagar</td>\n",
       "      <td>3</td>\n",
       "      <td>2</td>\n",
       "      <td>1322 sqft</td>\n",
       "      <td>?47 Lac</td>\n",
       "      <td>470.0</td>\n",
       "      <td>1322</td>\n",
       "      <td>35552.193646</td>\n",
       "    </tr>\n",
       "    <tr>\n",
       "      <th>5</th>\n",
       "      <td>Alinagar</td>\n",
       "      <td>3</td>\n",
       "      <td>2</td>\n",
       "      <td>1467 sqft</td>\n",
       "      <td>?50.20 Lac</td>\n",
       "      <td>502.0</td>\n",
       "      <td>1467</td>\n",
       "      <td>34219.495569</td>\n",
       "    </tr>\n",
       "    <tr>\n",
       "      <th>...</th>\n",
       "      <td>...</td>\n",
       "      <td>...</td>\n",
       "      <td>...</td>\n",
       "      <td>...</td>\n",
       "      <td>...</td>\n",
       "      <td>...</td>\n",
       "      <td>...</td>\n",
       "      <td>...</td>\n",
       "    </tr>\n",
       "    <tr>\n",
       "      <th>379</th>\n",
       "      <td>other</td>\n",
       "      <td>4</td>\n",
       "      <td>3</td>\n",
       "      <td>1312 sqft</td>\n",
       "      <td>?65 Lac</td>\n",
       "      <td>650.0</td>\n",
       "      <td>1312</td>\n",
       "      <td>49542.682927</td>\n",
       "    </tr>\n",
       "    <tr>\n",
       "      <th>380</th>\n",
       "      <td>other</td>\n",
       "      <td>4</td>\n",
       "      <td>3</td>\n",
       "      <td>1312 sqft</td>\n",
       "      <td>?65 Lac</td>\n",
       "      <td>650.0</td>\n",
       "      <td>1312</td>\n",
       "      <td>49542.682927</td>\n",
       "    </tr>\n",
       "    <tr>\n",
       "      <th>381</th>\n",
       "      <td>other</td>\n",
       "      <td>10</td>\n",
       "      <td>3</td>\n",
       "      <td>3000 sqft</td>\n",
       "      <td>?2.50 Cr</td>\n",
       "      <td>25.0</td>\n",
       "      <td>3000</td>\n",
       "      <td>833.333333</td>\n",
       "    </tr>\n",
       "    <tr>\n",
       "      <th>382</th>\n",
       "      <td>other</td>\n",
       "      <td>10</td>\n",
       "      <td>3</td>\n",
       "      <td>3000 sqft</td>\n",
       "      <td>?2.50 Cr</td>\n",
       "      <td>25.0</td>\n",
       "      <td>3000</td>\n",
       "      <td>833.333333</td>\n",
       "    </tr>\n",
       "    <tr>\n",
       "      <th>383</th>\n",
       "      <td>other</td>\n",
       "      <td>10</td>\n",
       "      <td>3</td>\n",
       "      <td>3000 sqft</td>\n",
       "      <td>?2.50 Cr</td>\n",
       "      <td>25.0</td>\n",
       "      <td>3000</td>\n",
       "      <td>833.333333</td>\n",
       "    </tr>\n",
       "  </tbody>\n",
       "</table>\n",
       "<p>340 rows × 8 columns</p>\n",
       "</div>"
      ],
      "text/plain": [
       "         Area  BHK  Floor  Land Size       Price  Price(in Lakhs)  \\\n",
       "1    Alinagar    3      1  1500 sqft     ?45 Lac            450.0   \n",
       "2    Alinagar    4      2  1500 sqft     ?55 Lac            550.0   \n",
       "3    Alinagar    2      2   760 sqft     ?35 Lac            350.0   \n",
       "4    Alinagar    3      2  1322 sqft     ?47 Lac            470.0   \n",
       "5    Alinagar    3      2  1467 sqft  ?50.20 Lac            502.0   \n",
       "..        ...  ...    ...        ...         ...              ...   \n",
       "379     other    4      3  1312 sqft     ?65 Lac            650.0   \n",
       "380     other    4      3  1312 sqft     ?65 Lac            650.0   \n",
       "381     other   10      3  3000 sqft    ?2.50 Cr             25.0   \n",
       "382     other   10      3  3000 sqft    ?2.50 Cr             25.0   \n",
       "383     other   10      3  3000 sqft    ?2.50 Cr             25.0   \n",
       "\n",
       "     Size(in sq.ft)  price_per_sqft  \n",
       "1              1500    30000.000000  \n",
       "2              1500    36666.666667  \n",
       "3               760    46052.631579  \n",
       "4              1322    35552.193646  \n",
       "5              1467    34219.495569  \n",
       "..              ...             ...  \n",
       "379            1312    49542.682927  \n",
       "380            1312    49542.682927  \n",
       "381            3000      833.333333  \n",
       "382            3000      833.333333  \n",
       "383            3000      833.333333  \n",
       "\n",
       "[340 rows x 8 columns]"
      ]
     },
     "execution_count": 173,
     "metadata": {},
     "output_type": "execute_result"
    }
   ],
   "source": [
    "data"
   ]
  },
  {
   "cell_type": "code",
   "execution_count": 174,
   "id": "91b9848c",
   "metadata": {},
   "outputs": [],
   "source": [
    "data.drop(data.columns[[3,4,7]], axis = 1, inplace = True)"
   ]
  },
  {
   "cell_type": "code",
   "execution_count": 175,
   "id": "13926cb4",
   "metadata": {},
   "outputs": [],
   "source": [
    "data.head()\n",
    "data['BHK'] = data['BHK'].astype('float64')\n",
    "data['Floor'] = data['Floor'].astype('float64')\n",
    "data['Size(in sq.ft)'] = data['Size(in sq.ft)'].astype('float64')"
   ]
  },
  {
   "cell_type": "code",
   "execution_count": 176,
   "id": "b0f40b9e",
   "metadata": {},
   "outputs": [],
   "source": [
    "data.to_csv(\"Cleaned_data.csv\")"
   ]
  },
  {
   "cell_type": "code",
   "execution_count": 177,
   "id": "7201c8d6",
   "metadata": {},
   "outputs": [],
   "source": [
    "X=data.drop(columns=['Price(in Lakhs)'])\n",
    "y=data['Price(in Lakhs)']"
   ]
  },
  {
   "cell_type": "code",
   "execution_count": 178,
   "id": "8ac93796",
   "metadata": {},
   "outputs": [],
   "source": [
    "from sklearn.model_selection import train_test_split\n",
    "from sklearn.linear_model import LinearRegression,Lasso,Ridge\n",
    "from sklearn.preprocessing import OneHotEncoder, StandardScaler\n",
    "from sklearn.compose import make_column_transformer\n",
    "from sklearn.pipeline import make_pipeline\n",
    "from sklearn.metrics import r2_score"
   ]
  },
  {
   "cell_type": "code",
   "execution_count": 179,
   "id": "835391fa",
   "metadata": {},
   "outputs": [],
   "source": [
    "X_train,X_test,y_train,y_test = train_test_split(X,y,test_size=0.3,random_state=0)\n"
   ]
  },
  {
   "cell_type": "code",
   "execution_count": 180,
   "id": "83ec0ad9",
   "metadata": {},
   "outputs": [
    {
     "name": "stdout",
     "output_type": "stream",
     "text": [
      "(238, 4)\n",
      "(102, 4)\n"
     ]
    }
   ],
   "source": [
    "print(X_train.shape)\n",
    "print(X_test.shape)"
   ]
  },
  {
   "cell_type": "code",
   "execution_count": 181,
   "id": "2134f04e",
   "metadata": {},
   "outputs": [],
   "source": [
    "OHE_model = OneHotEncoder(handle_unknown = 'ignore')\n",
    "column_trans = make_column_transformer((OneHotEncoder(handle_unknown='ignore',sparse=False),['Area']),remainder='passthrough')"
   ]
  },
  {
   "cell_type": "code",
   "execution_count": 182,
   "id": "00e405ce",
   "metadata": {},
   "outputs": [],
   "source": [
    "scaler = StandardScaler()"
   ]
  },
  {
   "cell_type": "code",
   "execution_count": 183,
   "id": "a5a50773",
   "metadata": {},
   "outputs": [],
   "source": [
    "lr = LinearRegression(normalize=True)"
   ]
  },
  {
   "cell_type": "code",
   "execution_count": 184,
   "id": "a8f2606b",
   "metadata": {},
   "outputs": [],
   "source": [
    "pipe = make_pipeline(column_trans,scaler,lr)"
   ]
  },
  {
   "cell_type": "code",
   "execution_count": 185,
   "id": "d014942f",
   "metadata": {},
   "outputs": [
    {
     "name": "stderr",
     "output_type": "stream",
     "text": [
      "c:\\Users\\hp\\AppData\\Local\\Programs\\Python\\Python310\\lib\\site-packages\\sklearn\\linear_model\\_base.py:141: FutureWarning: 'normalize' was deprecated in version 1.0 and will be removed in 1.2.\n",
      "If you wish to scale the data, use Pipeline with a StandardScaler in a preprocessing stage. To reproduce the previous behavior:\n",
      "\n",
      "from sklearn.pipeline import make_pipeline\n",
      "\n",
      "model = make_pipeline(StandardScaler(with_mean=False), LinearRegression())\n",
      "\n",
      "If you wish to pass a sample_weight parameter, you need to pass it as a fit parameter to each step of the pipeline as follows:\n",
      "\n",
      "kwargs = {s[0] + '__sample_weight': sample_weight for s in model.steps}\n",
      "model.fit(X, y, **kwargs)\n",
      "\n",
      "\n",
      "  warnings.warn(\n"
     ]
    },
    {
     "data": {
      "text/html": [
       "<style>#sk-container-id-7 {color: black;background-color: white;}#sk-container-id-7 pre{padding: 0;}#sk-container-id-7 div.sk-toggleable {background-color: white;}#sk-container-id-7 label.sk-toggleable__label {cursor: pointer;display: block;width: 100%;margin-bottom: 0;padding: 0.3em;box-sizing: border-box;text-align: center;}#sk-container-id-7 label.sk-toggleable__label-arrow:before {content: \"▸\";float: left;margin-right: 0.25em;color: #696969;}#sk-container-id-7 label.sk-toggleable__label-arrow:hover:before {color: black;}#sk-container-id-7 div.sk-estimator:hover label.sk-toggleable__label-arrow:before {color: black;}#sk-container-id-7 div.sk-toggleable__content {max-height: 0;max-width: 0;overflow: hidden;text-align: left;background-color: #f0f8ff;}#sk-container-id-7 div.sk-toggleable__content pre {margin: 0.2em;color: black;border-radius: 0.25em;background-color: #f0f8ff;}#sk-container-id-7 input.sk-toggleable__control:checked~div.sk-toggleable__content {max-height: 200px;max-width: 100%;overflow: auto;}#sk-container-id-7 input.sk-toggleable__control:checked~label.sk-toggleable__label-arrow:before {content: \"▾\";}#sk-container-id-7 div.sk-estimator input.sk-toggleable__control:checked~label.sk-toggleable__label {background-color: #d4ebff;}#sk-container-id-7 div.sk-label input.sk-toggleable__control:checked~label.sk-toggleable__label {background-color: #d4ebff;}#sk-container-id-7 input.sk-hidden--visually {border: 0;clip: rect(1px 1px 1px 1px);clip: rect(1px, 1px, 1px, 1px);height: 1px;margin: -1px;overflow: hidden;padding: 0;position: absolute;width: 1px;}#sk-container-id-7 div.sk-estimator {font-family: monospace;background-color: #f0f8ff;border: 1px dotted black;border-radius: 0.25em;box-sizing: border-box;margin-bottom: 0.5em;}#sk-container-id-7 div.sk-estimator:hover {background-color: #d4ebff;}#sk-container-id-7 div.sk-parallel-item::after {content: \"\";width: 100%;border-bottom: 1px solid gray;flex-grow: 1;}#sk-container-id-7 div.sk-label:hover label.sk-toggleable__label {background-color: #d4ebff;}#sk-container-id-7 div.sk-serial::before {content: \"\";position: absolute;border-left: 1px solid gray;box-sizing: border-box;top: 0;bottom: 0;left: 50%;z-index: 0;}#sk-container-id-7 div.sk-serial {display: flex;flex-direction: column;align-items: center;background-color: white;padding-right: 0.2em;padding-left: 0.2em;position: relative;}#sk-container-id-7 div.sk-item {position: relative;z-index: 1;}#sk-container-id-7 div.sk-parallel {display: flex;align-items: stretch;justify-content: center;background-color: white;position: relative;}#sk-container-id-7 div.sk-item::before, #sk-container-id-7 div.sk-parallel-item::before {content: \"\";position: absolute;border-left: 1px solid gray;box-sizing: border-box;top: 0;bottom: 0;left: 50%;z-index: -1;}#sk-container-id-7 div.sk-parallel-item {display: flex;flex-direction: column;z-index: 1;position: relative;background-color: white;}#sk-container-id-7 div.sk-parallel-item:first-child::after {align-self: flex-end;width: 50%;}#sk-container-id-7 div.sk-parallel-item:last-child::after {align-self: flex-start;width: 50%;}#sk-container-id-7 div.sk-parallel-item:only-child::after {width: 0;}#sk-container-id-7 div.sk-dashed-wrapped {border: 1px dashed gray;margin: 0 0.4em 0.5em 0.4em;box-sizing: border-box;padding-bottom: 0.4em;background-color: white;}#sk-container-id-7 div.sk-label label {font-family: monospace;font-weight: bold;display: inline-block;line-height: 1.2em;}#sk-container-id-7 div.sk-label-container {text-align: center;}#sk-container-id-7 div.sk-container {/* jupyter's `normalize.less` sets `[hidden] { display: none; }` but bootstrap.min.css set `[hidden] { display: none !important; }` so we also need the `!important` here to be able to override the default hidden behavior on the sphinx rendered scikit-learn.org. See: https://github.com/scikit-learn/scikit-learn/issues/21755 */display: inline-block !important;position: relative;}#sk-container-id-7 div.sk-text-repr-fallback {display: none;}</style><div id=\"sk-container-id-7\" class=\"sk-top-container\"><div class=\"sk-text-repr-fallback\"><pre>Pipeline(steps=[(&#x27;columntransformer&#x27;,\n",
       "                 ColumnTransformer(remainder=&#x27;passthrough&#x27;,\n",
       "                                   transformers=[(&#x27;onehotencoder&#x27;,\n",
       "                                                  OneHotEncoder(handle_unknown=&#x27;ignore&#x27;,\n",
       "                                                                sparse=False),\n",
       "                                                  [&#x27;Area&#x27;])])),\n",
       "                (&#x27;standardscaler&#x27;, StandardScaler()),\n",
       "                (&#x27;linearregression&#x27;, LinearRegression(normalize=True))])</pre><b>In a Jupyter environment, please rerun this cell to show the HTML representation or trust the notebook. <br />On GitHub, the HTML representation is unable to render, please try loading this page with nbviewer.org.</b></div><div class=\"sk-container\" hidden><div class=\"sk-item sk-dashed-wrapped\"><div class=\"sk-label-container\"><div class=\"sk-label sk-toggleable\"><input class=\"sk-toggleable__control sk-hidden--visually\" id=\"sk-estimator-id-49\" type=\"checkbox\" ><label for=\"sk-estimator-id-49\" class=\"sk-toggleable__label sk-toggleable__label-arrow\">Pipeline</label><div class=\"sk-toggleable__content\"><pre>Pipeline(steps=[(&#x27;columntransformer&#x27;,\n",
       "                 ColumnTransformer(remainder=&#x27;passthrough&#x27;,\n",
       "                                   transformers=[(&#x27;onehotencoder&#x27;,\n",
       "                                                  OneHotEncoder(handle_unknown=&#x27;ignore&#x27;,\n",
       "                                                                sparse=False),\n",
       "                                                  [&#x27;Area&#x27;])])),\n",
       "                (&#x27;standardscaler&#x27;, StandardScaler()),\n",
       "                (&#x27;linearregression&#x27;, LinearRegression(normalize=True))])</pre></div></div></div><div class=\"sk-serial\"><div class=\"sk-item sk-dashed-wrapped\"><div class=\"sk-label-container\"><div class=\"sk-label sk-toggleable\"><input class=\"sk-toggleable__control sk-hidden--visually\" id=\"sk-estimator-id-50\" type=\"checkbox\" ><label for=\"sk-estimator-id-50\" class=\"sk-toggleable__label sk-toggleable__label-arrow\">columntransformer: ColumnTransformer</label><div class=\"sk-toggleable__content\"><pre>ColumnTransformer(remainder=&#x27;passthrough&#x27;,\n",
       "                  transformers=[(&#x27;onehotencoder&#x27;,\n",
       "                                 OneHotEncoder(handle_unknown=&#x27;ignore&#x27;,\n",
       "                                               sparse=False),\n",
       "                                 [&#x27;Area&#x27;])])</pre></div></div></div><div class=\"sk-parallel\"><div class=\"sk-parallel-item\"><div class=\"sk-item\"><div class=\"sk-label-container\"><div class=\"sk-label sk-toggleable\"><input class=\"sk-toggleable__control sk-hidden--visually\" id=\"sk-estimator-id-51\" type=\"checkbox\" ><label for=\"sk-estimator-id-51\" class=\"sk-toggleable__label sk-toggleable__label-arrow\">onehotencoder</label><div class=\"sk-toggleable__content\"><pre>[&#x27;Area&#x27;]</pre></div></div></div><div class=\"sk-serial\"><div class=\"sk-item\"><div class=\"sk-estimator sk-toggleable\"><input class=\"sk-toggleable__control sk-hidden--visually\" id=\"sk-estimator-id-52\" type=\"checkbox\" ><label for=\"sk-estimator-id-52\" class=\"sk-toggleable__label sk-toggleable__label-arrow\">OneHotEncoder</label><div class=\"sk-toggleable__content\"><pre>OneHotEncoder(handle_unknown=&#x27;ignore&#x27;, sparse=False)</pre></div></div></div></div></div></div><div class=\"sk-parallel-item\"><div class=\"sk-item\"><div class=\"sk-label-container\"><div class=\"sk-label sk-toggleable\"><input class=\"sk-toggleable__control sk-hidden--visually\" id=\"sk-estimator-id-53\" type=\"checkbox\" ><label for=\"sk-estimator-id-53\" class=\"sk-toggleable__label sk-toggleable__label-arrow\">remainder</label><div class=\"sk-toggleable__content\"><pre>[&#x27;BHK&#x27;, &#x27;Floor&#x27;, &#x27;Size(in sq.ft)&#x27;]</pre></div></div></div><div class=\"sk-serial\"><div class=\"sk-item\"><div class=\"sk-estimator sk-toggleable\"><input class=\"sk-toggleable__control sk-hidden--visually\" id=\"sk-estimator-id-54\" type=\"checkbox\" ><label for=\"sk-estimator-id-54\" class=\"sk-toggleable__label sk-toggleable__label-arrow\">passthrough</label><div class=\"sk-toggleable__content\"><pre>passthrough</pre></div></div></div></div></div></div></div></div><div class=\"sk-item\"><div class=\"sk-estimator sk-toggleable\"><input class=\"sk-toggleable__control sk-hidden--visually\" id=\"sk-estimator-id-55\" type=\"checkbox\" ><label for=\"sk-estimator-id-55\" class=\"sk-toggleable__label sk-toggleable__label-arrow\">StandardScaler</label><div class=\"sk-toggleable__content\"><pre>StandardScaler()</pre></div></div></div><div class=\"sk-item\"><div class=\"sk-estimator sk-toggleable\"><input class=\"sk-toggleable__control sk-hidden--visually\" id=\"sk-estimator-id-56\" type=\"checkbox\" ><label for=\"sk-estimator-id-56\" class=\"sk-toggleable__label sk-toggleable__label-arrow\">LinearRegression</label><div class=\"sk-toggleable__content\"><pre>LinearRegression(normalize=True)</pre></div></div></div></div></div></div></div>"
      ],
      "text/plain": [
       "Pipeline(steps=[('columntransformer',\n",
       "                 ColumnTransformer(remainder='passthrough',\n",
       "                                   transformers=[('onehotencoder',\n",
       "                                                  OneHotEncoder(handle_unknown='ignore',\n",
       "                                                                sparse=False),\n",
       "                                                  ['Area'])])),\n",
       "                ('standardscaler', StandardScaler()),\n",
       "                ('linearregression', LinearRegression(normalize=True))])"
      ]
     },
     "execution_count": 185,
     "metadata": {},
     "output_type": "execute_result"
    }
   ],
   "source": [
    "pipe.fit(X_train,y_train)"
   ]
  },
  {
   "cell_type": "code",
   "execution_count": 186,
   "id": "b37bdcf7",
   "metadata": {},
   "outputs": [],
   "source": [
    "y_pred_lr = pipe.predict(X_test)"
   ]
  },
  {
   "cell_type": "code",
   "execution_count": 187,
   "id": "40b1e48a",
   "metadata": {},
   "outputs": [
    {
     "data": {
      "text/plain": [
       "0.3158668109559166"
      ]
     },
     "execution_count": 187,
     "metadata": {},
     "output_type": "execute_result"
    }
   ],
   "source": [
    "r2_score(y_test,y_pred_lr)"
   ]
  },
  {
   "cell_type": "code",
   "execution_count": 188,
   "id": "5e6e4128",
   "metadata": {},
   "outputs": [],
   "source": [
    "lasso = Lasso()"
   ]
  },
  {
   "cell_type": "code",
   "execution_count": 189,
   "id": "e314348b",
   "metadata": {},
   "outputs": [],
   "source": [
    "pipe = make_pipeline(column_trans,scaler,lasso)"
   ]
  },
  {
   "cell_type": "code",
   "execution_count": 190,
   "id": "604893bc",
   "metadata": {},
   "outputs": [
    {
     "data": {
      "text/html": [
       "<style>#sk-container-id-8 {color: black;background-color: white;}#sk-container-id-8 pre{padding: 0;}#sk-container-id-8 div.sk-toggleable {background-color: white;}#sk-container-id-8 label.sk-toggleable__label {cursor: pointer;display: block;width: 100%;margin-bottom: 0;padding: 0.3em;box-sizing: border-box;text-align: center;}#sk-container-id-8 label.sk-toggleable__label-arrow:before {content: \"▸\";float: left;margin-right: 0.25em;color: #696969;}#sk-container-id-8 label.sk-toggleable__label-arrow:hover:before {color: black;}#sk-container-id-8 div.sk-estimator:hover label.sk-toggleable__label-arrow:before {color: black;}#sk-container-id-8 div.sk-toggleable__content {max-height: 0;max-width: 0;overflow: hidden;text-align: left;background-color: #f0f8ff;}#sk-container-id-8 div.sk-toggleable__content pre {margin: 0.2em;color: black;border-radius: 0.25em;background-color: #f0f8ff;}#sk-container-id-8 input.sk-toggleable__control:checked~div.sk-toggleable__content {max-height: 200px;max-width: 100%;overflow: auto;}#sk-container-id-8 input.sk-toggleable__control:checked~label.sk-toggleable__label-arrow:before {content: \"▾\";}#sk-container-id-8 div.sk-estimator input.sk-toggleable__control:checked~label.sk-toggleable__label {background-color: #d4ebff;}#sk-container-id-8 div.sk-label input.sk-toggleable__control:checked~label.sk-toggleable__label {background-color: #d4ebff;}#sk-container-id-8 input.sk-hidden--visually {border: 0;clip: rect(1px 1px 1px 1px);clip: rect(1px, 1px, 1px, 1px);height: 1px;margin: -1px;overflow: hidden;padding: 0;position: absolute;width: 1px;}#sk-container-id-8 div.sk-estimator {font-family: monospace;background-color: #f0f8ff;border: 1px dotted black;border-radius: 0.25em;box-sizing: border-box;margin-bottom: 0.5em;}#sk-container-id-8 div.sk-estimator:hover {background-color: #d4ebff;}#sk-container-id-8 div.sk-parallel-item::after {content: \"\";width: 100%;border-bottom: 1px solid gray;flex-grow: 1;}#sk-container-id-8 div.sk-label:hover label.sk-toggleable__label {background-color: #d4ebff;}#sk-container-id-8 div.sk-serial::before {content: \"\";position: absolute;border-left: 1px solid gray;box-sizing: border-box;top: 0;bottom: 0;left: 50%;z-index: 0;}#sk-container-id-8 div.sk-serial {display: flex;flex-direction: column;align-items: center;background-color: white;padding-right: 0.2em;padding-left: 0.2em;position: relative;}#sk-container-id-8 div.sk-item {position: relative;z-index: 1;}#sk-container-id-8 div.sk-parallel {display: flex;align-items: stretch;justify-content: center;background-color: white;position: relative;}#sk-container-id-8 div.sk-item::before, #sk-container-id-8 div.sk-parallel-item::before {content: \"\";position: absolute;border-left: 1px solid gray;box-sizing: border-box;top: 0;bottom: 0;left: 50%;z-index: -1;}#sk-container-id-8 div.sk-parallel-item {display: flex;flex-direction: column;z-index: 1;position: relative;background-color: white;}#sk-container-id-8 div.sk-parallel-item:first-child::after {align-self: flex-end;width: 50%;}#sk-container-id-8 div.sk-parallel-item:last-child::after {align-self: flex-start;width: 50%;}#sk-container-id-8 div.sk-parallel-item:only-child::after {width: 0;}#sk-container-id-8 div.sk-dashed-wrapped {border: 1px dashed gray;margin: 0 0.4em 0.5em 0.4em;box-sizing: border-box;padding-bottom: 0.4em;background-color: white;}#sk-container-id-8 div.sk-label label {font-family: monospace;font-weight: bold;display: inline-block;line-height: 1.2em;}#sk-container-id-8 div.sk-label-container {text-align: center;}#sk-container-id-8 div.sk-container {/* jupyter's `normalize.less` sets `[hidden] { display: none; }` but bootstrap.min.css set `[hidden] { display: none !important; }` so we also need the `!important` here to be able to override the default hidden behavior on the sphinx rendered scikit-learn.org. See: https://github.com/scikit-learn/scikit-learn/issues/21755 */display: inline-block !important;position: relative;}#sk-container-id-8 div.sk-text-repr-fallback {display: none;}</style><div id=\"sk-container-id-8\" class=\"sk-top-container\"><div class=\"sk-text-repr-fallback\"><pre>Pipeline(steps=[(&#x27;columntransformer&#x27;,\n",
       "                 ColumnTransformer(remainder=&#x27;passthrough&#x27;,\n",
       "                                   transformers=[(&#x27;onehotencoder&#x27;,\n",
       "                                                  OneHotEncoder(handle_unknown=&#x27;ignore&#x27;,\n",
       "                                                                sparse=False),\n",
       "                                                  [&#x27;Area&#x27;])])),\n",
       "                (&#x27;standardscaler&#x27;, StandardScaler()), (&#x27;lasso&#x27;, Lasso())])</pre><b>In a Jupyter environment, please rerun this cell to show the HTML representation or trust the notebook. <br />On GitHub, the HTML representation is unable to render, please try loading this page with nbviewer.org.</b></div><div class=\"sk-container\" hidden><div class=\"sk-item sk-dashed-wrapped\"><div class=\"sk-label-container\"><div class=\"sk-label sk-toggleable\"><input class=\"sk-toggleable__control sk-hidden--visually\" id=\"sk-estimator-id-57\" type=\"checkbox\" ><label for=\"sk-estimator-id-57\" class=\"sk-toggleable__label sk-toggleable__label-arrow\">Pipeline</label><div class=\"sk-toggleable__content\"><pre>Pipeline(steps=[(&#x27;columntransformer&#x27;,\n",
       "                 ColumnTransformer(remainder=&#x27;passthrough&#x27;,\n",
       "                                   transformers=[(&#x27;onehotencoder&#x27;,\n",
       "                                                  OneHotEncoder(handle_unknown=&#x27;ignore&#x27;,\n",
       "                                                                sparse=False),\n",
       "                                                  [&#x27;Area&#x27;])])),\n",
       "                (&#x27;standardscaler&#x27;, StandardScaler()), (&#x27;lasso&#x27;, Lasso())])</pre></div></div></div><div class=\"sk-serial\"><div class=\"sk-item sk-dashed-wrapped\"><div class=\"sk-label-container\"><div class=\"sk-label sk-toggleable\"><input class=\"sk-toggleable__control sk-hidden--visually\" id=\"sk-estimator-id-58\" type=\"checkbox\" ><label for=\"sk-estimator-id-58\" class=\"sk-toggleable__label sk-toggleable__label-arrow\">columntransformer: ColumnTransformer</label><div class=\"sk-toggleable__content\"><pre>ColumnTransformer(remainder=&#x27;passthrough&#x27;,\n",
       "                  transformers=[(&#x27;onehotencoder&#x27;,\n",
       "                                 OneHotEncoder(handle_unknown=&#x27;ignore&#x27;,\n",
       "                                               sparse=False),\n",
       "                                 [&#x27;Area&#x27;])])</pre></div></div></div><div class=\"sk-parallel\"><div class=\"sk-parallel-item\"><div class=\"sk-item\"><div class=\"sk-label-container\"><div class=\"sk-label sk-toggleable\"><input class=\"sk-toggleable__control sk-hidden--visually\" id=\"sk-estimator-id-59\" type=\"checkbox\" ><label for=\"sk-estimator-id-59\" class=\"sk-toggleable__label sk-toggleable__label-arrow\">onehotencoder</label><div class=\"sk-toggleable__content\"><pre>[&#x27;Area&#x27;]</pre></div></div></div><div class=\"sk-serial\"><div class=\"sk-item\"><div class=\"sk-estimator sk-toggleable\"><input class=\"sk-toggleable__control sk-hidden--visually\" id=\"sk-estimator-id-60\" type=\"checkbox\" ><label for=\"sk-estimator-id-60\" class=\"sk-toggleable__label sk-toggleable__label-arrow\">OneHotEncoder</label><div class=\"sk-toggleable__content\"><pre>OneHotEncoder(handle_unknown=&#x27;ignore&#x27;, sparse=False)</pre></div></div></div></div></div></div><div class=\"sk-parallel-item\"><div class=\"sk-item\"><div class=\"sk-label-container\"><div class=\"sk-label sk-toggleable\"><input class=\"sk-toggleable__control sk-hidden--visually\" id=\"sk-estimator-id-61\" type=\"checkbox\" ><label for=\"sk-estimator-id-61\" class=\"sk-toggleable__label sk-toggleable__label-arrow\">remainder</label><div class=\"sk-toggleable__content\"><pre>[&#x27;BHK&#x27;, &#x27;Floor&#x27;, &#x27;Size(in sq.ft)&#x27;]</pre></div></div></div><div class=\"sk-serial\"><div class=\"sk-item\"><div class=\"sk-estimator sk-toggleable\"><input class=\"sk-toggleable__control sk-hidden--visually\" id=\"sk-estimator-id-62\" type=\"checkbox\" ><label for=\"sk-estimator-id-62\" class=\"sk-toggleable__label sk-toggleable__label-arrow\">passthrough</label><div class=\"sk-toggleable__content\"><pre>passthrough</pre></div></div></div></div></div></div></div></div><div class=\"sk-item\"><div class=\"sk-estimator sk-toggleable\"><input class=\"sk-toggleable__control sk-hidden--visually\" id=\"sk-estimator-id-63\" type=\"checkbox\" ><label for=\"sk-estimator-id-63\" class=\"sk-toggleable__label sk-toggleable__label-arrow\">StandardScaler</label><div class=\"sk-toggleable__content\"><pre>StandardScaler()</pre></div></div></div><div class=\"sk-item\"><div class=\"sk-estimator sk-toggleable\"><input class=\"sk-toggleable__control sk-hidden--visually\" id=\"sk-estimator-id-64\" type=\"checkbox\" ><label for=\"sk-estimator-id-64\" class=\"sk-toggleable__label sk-toggleable__label-arrow\">Lasso</label><div class=\"sk-toggleable__content\"><pre>Lasso()</pre></div></div></div></div></div></div></div>"
      ],
      "text/plain": [
       "Pipeline(steps=[('columntransformer',\n",
       "                 ColumnTransformer(remainder='passthrough',\n",
       "                                   transformers=[('onehotencoder',\n",
       "                                                  OneHotEncoder(handle_unknown='ignore',\n",
       "                                                                sparse=False),\n",
       "                                                  ['Area'])])),\n",
       "                ('standardscaler', StandardScaler()), ('lasso', Lasso())])"
      ]
     },
     "execution_count": 190,
     "metadata": {},
     "output_type": "execute_result"
    }
   ],
   "source": [
    "pipe.fit(X_train,y_train)"
   ]
  },
  {
   "cell_type": "code",
   "execution_count": 191,
   "id": "efc3ccd3",
   "metadata": {},
   "outputs": [
    {
     "data": {
      "text/plain": [
       "0.32386549399226205"
      ]
     },
     "execution_count": 191,
     "metadata": {},
     "output_type": "execute_result"
    }
   ],
   "source": [
    "y_pred_lasso = pipe.predict(X_test)\n",
    "r2_score(y_test,y_pred_lasso)"
   ]
  },
  {
   "cell_type": "code",
   "execution_count": 192,
   "id": "00003b4e",
   "metadata": {},
   "outputs": [],
   "source": [
    "ridge = Ridge()"
   ]
  },
  {
   "cell_type": "code",
   "execution_count": 193,
   "id": "6804053b",
   "metadata": {},
   "outputs": [],
   "source": [
    "pipe = make_pipeline(column_trans,scaler,ridge)"
   ]
  },
  {
   "cell_type": "code",
   "execution_count": 194,
   "id": "7f38ac01",
   "metadata": {},
   "outputs": [
    {
     "data": {
      "text/html": [
       "<style>#sk-container-id-9 {color: black;background-color: white;}#sk-container-id-9 pre{padding: 0;}#sk-container-id-9 div.sk-toggleable {background-color: white;}#sk-container-id-9 label.sk-toggleable__label {cursor: pointer;display: block;width: 100%;margin-bottom: 0;padding: 0.3em;box-sizing: border-box;text-align: center;}#sk-container-id-9 label.sk-toggleable__label-arrow:before {content: \"▸\";float: left;margin-right: 0.25em;color: #696969;}#sk-container-id-9 label.sk-toggleable__label-arrow:hover:before {color: black;}#sk-container-id-9 div.sk-estimator:hover label.sk-toggleable__label-arrow:before {color: black;}#sk-container-id-9 div.sk-toggleable__content {max-height: 0;max-width: 0;overflow: hidden;text-align: left;background-color: #f0f8ff;}#sk-container-id-9 div.sk-toggleable__content pre {margin: 0.2em;color: black;border-radius: 0.25em;background-color: #f0f8ff;}#sk-container-id-9 input.sk-toggleable__control:checked~div.sk-toggleable__content {max-height: 200px;max-width: 100%;overflow: auto;}#sk-container-id-9 input.sk-toggleable__control:checked~label.sk-toggleable__label-arrow:before {content: \"▾\";}#sk-container-id-9 div.sk-estimator input.sk-toggleable__control:checked~label.sk-toggleable__label {background-color: #d4ebff;}#sk-container-id-9 div.sk-label input.sk-toggleable__control:checked~label.sk-toggleable__label {background-color: #d4ebff;}#sk-container-id-9 input.sk-hidden--visually {border: 0;clip: rect(1px 1px 1px 1px);clip: rect(1px, 1px, 1px, 1px);height: 1px;margin: -1px;overflow: hidden;padding: 0;position: absolute;width: 1px;}#sk-container-id-9 div.sk-estimator {font-family: monospace;background-color: #f0f8ff;border: 1px dotted black;border-radius: 0.25em;box-sizing: border-box;margin-bottom: 0.5em;}#sk-container-id-9 div.sk-estimator:hover {background-color: #d4ebff;}#sk-container-id-9 div.sk-parallel-item::after {content: \"\";width: 100%;border-bottom: 1px solid gray;flex-grow: 1;}#sk-container-id-9 div.sk-label:hover label.sk-toggleable__label {background-color: #d4ebff;}#sk-container-id-9 div.sk-serial::before {content: \"\";position: absolute;border-left: 1px solid gray;box-sizing: border-box;top: 0;bottom: 0;left: 50%;z-index: 0;}#sk-container-id-9 div.sk-serial {display: flex;flex-direction: column;align-items: center;background-color: white;padding-right: 0.2em;padding-left: 0.2em;position: relative;}#sk-container-id-9 div.sk-item {position: relative;z-index: 1;}#sk-container-id-9 div.sk-parallel {display: flex;align-items: stretch;justify-content: center;background-color: white;position: relative;}#sk-container-id-9 div.sk-item::before, #sk-container-id-9 div.sk-parallel-item::before {content: \"\";position: absolute;border-left: 1px solid gray;box-sizing: border-box;top: 0;bottom: 0;left: 50%;z-index: -1;}#sk-container-id-9 div.sk-parallel-item {display: flex;flex-direction: column;z-index: 1;position: relative;background-color: white;}#sk-container-id-9 div.sk-parallel-item:first-child::after {align-self: flex-end;width: 50%;}#sk-container-id-9 div.sk-parallel-item:last-child::after {align-self: flex-start;width: 50%;}#sk-container-id-9 div.sk-parallel-item:only-child::after {width: 0;}#sk-container-id-9 div.sk-dashed-wrapped {border: 1px dashed gray;margin: 0 0.4em 0.5em 0.4em;box-sizing: border-box;padding-bottom: 0.4em;background-color: white;}#sk-container-id-9 div.sk-label label {font-family: monospace;font-weight: bold;display: inline-block;line-height: 1.2em;}#sk-container-id-9 div.sk-label-container {text-align: center;}#sk-container-id-9 div.sk-container {/* jupyter's `normalize.less` sets `[hidden] { display: none; }` but bootstrap.min.css set `[hidden] { display: none !important; }` so we also need the `!important` here to be able to override the default hidden behavior on the sphinx rendered scikit-learn.org. See: https://github.com/scikit-learn/scikit-learn/issues/21755 */display: inline-block !important;position: relative;}#sk-container-id-9 div.sk-text-repr-fallback {display: none;}</style><div id=\"sk-container-id-9\" class=\"sk-top-container\"><div class=\"sk-text-repr-fallback\"><pre>Pipeline(steps=[(&#x27;columntransformer&#x27;,\n",
       "                 ColumnTransformer(remainder=&#x27;passthrough&#x27;,\n",
       "                                   transformers=[(&#x27;onehotencoder&#x27;,\n",
       "                                                  OneHotEncoder(handle_unknown=&#x27;ignore&#x27;,\n",
       "                                                                sparse=False),\n",
       "                                                  [&#x27;Area&#x27;])])),\n",
       "                (&#x27;standardscaler&#x27;, StandardScaler()), (&#x27;ridge&#x27;, Ridge())])</pre><b>In a Jupyter environment, please rerun this cell to show the HTML representation or trust the notebook. <br />On GitHub, the HTML representation is unable to render, please try loading this page with nbviewer.org.</b></div><div class=\"sk-container\" hidden><div class=\"sk-item sk-dashed-wrapped\"><div class=\"sk-label-container\"><div class=\"sk-label sk-toggleable\"><input class=\"sk-toggleable__control sk-hidden--visually\" id=\"sk-estimator-id-65\" type=\"checkbox\" ><label for=\"sk-estimator-id-65\" class=\"sk-toggleable__label sk-toggleable__label-arrow\">Pipeline</label><div class=\"sk-toggleable__content\"><pre>Pipeline(steps=[(&#x27;columntransformer&#x27;,\n",
       "                 ColumnTransformer(remainder=&#x27;passthrough&#x27;,\n",
       "                                   transformers=[(&#x27;onehotencoder&#x27;,\n",
       "                                                  OneHotEncoder(handle_unknown=&#x27;ignore&#x27;,\n",
       "                                                                sparse=False),\n",
       "                                                  [&#x27;Area&#x27;])])),\n",
       "                (&#x27;standardscaler&#x27;, StandardScaler()), (&#x27;ridge&#x27;, Ridge())])</pre></div></div></div><div class=\"sk-serial\"><div class=\"sk-item sk-dashed-wrapped\"><div class=\"sk-label-container\"><div class=\"sk-label sk-toggleable\"><input class=\"sk-toggleable__control sk-hidden--visually\" id=\"sk-estimator-id-66\" type=\"checkbox\" ><label for=\"sk-estimator-id-66\" class=\"sk-toggleable__label sk-toggleable__label-arrow\">columntransformer: ColumnTransformer</label><div class=\"sk-toggleable__content\"><pre>ColumnTransformer(remainder=&#x27;passthrough&#x27;,\n",
       "                  transformers=[(&#x27;onehotencoder&#x27;,\n",
       "                                 OneHotEncoder(handle_unknown=&#x27;ignore&#x27;,\n",
       "                                               sparse=False),\n",
       "                                 [&#x27;Area&#x27;])])</pre></div></div></div><div class=\"sk-parallel\"><div class=\"sk-parallel-item\"><div class=\"sk-item\"><div class=\"sk-label-container\"><div class=\"sk-label sk-toggleable\"><input class=\"sk-toggleable__control sk-hidden--visually\" id=\"sk-estimator-id-67\" type=\"checkbox\" ><label for=\"sk-estimator-id-67\" class=\"sk-toggleable__label sk-toggleable__label-arrow\">onehotencoder</label><div class=\"sk-toggleable__content\"><pre>[&#x27;Area&#x27;]</pre></div></div></div><div class=\"sk-serial\"><div class=\"sk-item\"><div class=\"sk-estimator sk-toggleable\"><input class=\"sk-toggleable__control sk-hidden--visually\" id=\"sk-estimator-id-68\" type=\"checkbox\" ><label for=\"sk-estimator-id-68\" class=\"sk-toggleable__label sk-toggleable__label-arrow\">OneHotEncoder</label><div class=\"sk-toggleable__content\"><pre>OneHotEncoder(handle_unknown=&#x27;ignore&#x27;, sparse=False)</pre></div></div></div></div></div></div><div class=\"sk-parallel-item\"><div class=\"sk-item\"><div class=\"sk-label-container\"><div class=\"sk-label sk-toggleable\"><input class=\"sk-toggleable__control sk-hidden--visually\" id=\"sk-estimator-id-69\" type=\"checkbox\" ><label for=\"sk-estimator-id-69\" class=\"sk-toggleable__label sk-toggleable__label-arrow\">remainder</label><div class=\"sk-toggleable__content\"><pre>[&#x27;BHK&#x27;, &#x27;Floor&#x27;, &#x27;Size(in sq.ft)&#x27;]</pre></div></div></div><div class=\"sk-serial\"><div class=\"sk-item\"><div class=\"sk-estimator sk-toggleable\"><input class=\"sk-toggleable__control sk-hidden--visually\" id=\"sk-estimator-id-70\" type=\"checkbox\" ><label for=\"sk-estimator-id-70\" class=\"sk-toggleable__label sk-toggleable__label-arrow\">passthrough</label><div class=\"sk-toggleable__content\"><pre>passthrough</pre></div></div></div></div></div></div></div></div><div class=\"sk-item\"><div class=\"sk-estimator sk-toggleable\"><input class=\"sk-toggleable__control sk-hidden--visually\" id=\"sk-estimator-id-71\" type=\"checkbox\" ><label for=\"sk-estimator-id-71\" class=\"sk-toggleable__label sk-toggleable__label-arrow\">StandardScaler</label><div class=\"sk-toggleable__content\"><pre>StandardScaler()</pre></div></div></div><div class=\"sk-item\"><div class=\"sk-estimator sk-toggleable\"><input class=\"sk-toggleable__control sk-hidden--visually\" id=\"sk-estimator-id-72\" type=\"checkbox\" ><label for=\"sk-estimator-id-72\" class=\"sk-toggleable__label sk-toggleable__label-arrow\">Ridge</label><div class=\"sk-toggleable__content\"><pre>Ridge()</pre></div></div></div></div></div></div></div>"
      ],
      "text/plain": [
       "Pipeline(steps=[('columntransformer',\n",
       "                 ColumnTransformer(remainder='passthrough',\n",
       "                                   transformers=[('onehotencoder',\n",
       "                                                  OneHotEncoder(handle_unknown='ignore',\n",
       "                                                                sparse=False),\n",
       "                                                  ['Area'])])),\n",
       "                ('standardscaler', StandardScaler()), ('ridge', Ridge())])"
      ]
     },
     "execution_count": 194,
     "metadata": {},
     "output_type": "execute_result"
    }
   ],
   "source": [
    "pipe.fit(X_train,y_train)"
   ]
  },
  {
   "cell_type": "code",
   "execution_count": 195,
   "id": "1266d774",
   "metadata": {},
   "outputs": [
    {
     "data": {
      "text/plain": [
       "0.3235031338472012"
      ]
     },
     "execution_count": 195,
     "metadata": {},
     "output_type": "execute_result"
    }
   ],
   "source": [
    "y_pred_ridge = pipe.predict(X_test)\n",
    "r2_score(y_test,y_pred_ridge)"
   ]
  },
  {
   "cell_type": "code",
   "execution_count": 196,
   "id": "dc30c9e5",
   "metadata": {},
   "outputs": [],
   "source": [
    "import pickle"
   ]
  },
  {
   "cell_type": "code",
   "execution_count": 197,
   "id": "5de0547a",
   "metadata": {},
   "outputs": [],
   "source": [
    "pickle.dump(pipe, open('RidgeModel1.pkl','wb'))"
   ]
  },
  {
   "cell_type": "code",
   "execution_count": 198,
   "id": "8d3307f9",
   "metadata": {},
   "outputs": [
    {
     "name": "stdout",
     "output_type": "stream",
     "text": [
      "<class 'pandas.core.frame.DataFrame'>\n",
      "Int64Index: 340 entries, 1 to 383\n",
      "Data columns (total 5 columns):\n",
      " #   Column           Non-Null Count  Dtype  \n",
      "---  ------           --------------  -----  \n",
      " 0   Area             340 non-null    object \n",
      " 1   BHK              340 non-null    float64\n",
      " 2   Floor            340 non-null    float64\n",
      " 3   Price(in Lakhs)  340 non-null    float64\n",
      " 4   Size(in sq.ft)   340 non-null    float64\n",
      "dtypes: float64(4), object(1)\n",
      "memory usage: 15.9+ KB\n"
     ]
    }
   ],
   "source": [
    "data.info()"
   ]
  }
 ],
 "metadata": {
  "interpreter": {
   "hash": "63963b3f4c440940f0b94a3100916033a226cb4f45979123153792d60aa56d6a"
  },
  "kernelspec": {
   "display_name": "Python 3.10.4 64-bit",
   "language": "python",
   "name": "python3"
  },
  "language_info": {
   "codemirror_mode": {
    "name": "ipython",
    "version": 3
   },
   "file_extension": ".py",
   "mimetype": "text/x-python",
   "name": "python",
   "nbconvert_exporter": "python",
   "pygments_lexer": "ipython3",
   "version": "3.10.4"
  }
 },
 "nbformat": 4,
 "nbformat_minor": 5
}
